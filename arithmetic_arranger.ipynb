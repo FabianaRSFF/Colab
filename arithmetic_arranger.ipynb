{
  "nbformat": 4,
  "nbformat_minor": 0,
  "metadata": {
    "colab": {
      "name": "arithmetic_arranger.ipynb",
      "provenance": [],
      "authorship_tag": "ABX9TyM9tvpgWJOH30q430XC2zT7",
      "include_colab_link": true
    },
    "kernelspec": {
      "name": "python3",
      "display_name": "Python 3"
    },
    "language_info": {
      "name": "python"
    }
  },
  "cells": [
    {
      "cell_type": "markdown",
      "metadata": {
        "id": "view-in-github",
        "colab_type": "text"
      },
      "source": [
        "<a href=\"https://colab.research.google.com/github/FabianaRSFF/Colab/blob/main/arithmetic_arranger.ipynb\" target=\"_parent\"><img src=\"https://colab.research.google.com/assets/colab-badge.svg\" alt=\"Open In Colab\"/></a>"
      ]
    },
    {
      "cell_type": "markdown",
      "source": [
        ""
      ],
      "metadata": {
        "id": "PV-sp5ioALOE"
      }
    },
    {
      "cell_type": "markdown",
      "source": [
        "def arithmetic_arranger(operation):\n",
        "  if operation == 'addit'\n",
        "  return \n",
        "\n",
        "  "
      ],
      "metadata": {
        "id": "p4-QYXMxBFoN"
      }
    },
    {
      "cell_type": "markdown",
      "source": [
        ""
      ],
      "metadata": {
        "id": "jKj8yGRaCPWd"
      }
    },
    {
      "cell_type": "code",
      "source": [
        "arithmetic_arranger1 = ([\"  34\\n   +\\n   8\\n____\", \"   1\\n   -\\n3801\\n____\", \"  92\\n   +\\n   99\\n____\", \"  523\\n    -\\n   49\\n____\"])\n",
        "for v in arithmetic_arranger1:\n",
        "    print(v)\n",
        "\n",
        "def arithmetic_arranger(opera):\n",
        "    opera = [[34+8], [1-3801], [92+99], [523-49]]\n",
        "    for list in opera:\n",
        "        print(list)\n",
        "\n",
        "\n",
        "arithmetic_arranger(list)"
      ],
      "metadata": {
        "id": "3FnJ2THNCRzJ",
        "colab": {
          "base_uri": "https://localhost:8080/"
        },
        "outputId": "992088b9-7115-472b-defe-635f77112531"
      },
      "execution_count": 2,
      "outputs": [
        {
          "output_type": "stream",
          "name": "stdout",
          "text": [
            "  34\n",
            "   +\n",
            "   8\n",
            "____\n",
            "   1\n",
            "   -\n",
            "3801\n",
            "____\n",
            "  92\n",
            "   +\n",
            "   99\n",
            "____\n",
            "  523\n",
            "    -\n",
            "   49\n",
            "____\n",
            "[42]\n",
            "[-3800]\n",
            "[191]\n",
            "[474]\n"
          ]
        }
      ]
    },
    {
      "cell_type": "code",
      "source": [
        "\n",
        "\n",
        "def arithmetic_arranger(expression: 'list[str]', result: bool = False) -> str:\n",
        "    if len(expression) > 7:\n",
        "        return \"Error: Too Many Problems\"\n",
        "\n",
        "    li1 = []\n",
        "    li2 = []\n",
        "    li3 = []\n",
        "    li4 = []\n",
        "    for exp in expression:\n",
        "        exp = exp.replace(\" \", \"\")\n",
        "        if \"+\" in exp:\n",
        "            exp = exp.split(\"+\")\n",
        "            operator = \"+\"\n",
        "        elif \"-\" in exp:\n",
        "            exp = exp.split(\"-\")\n",
        "            operator = \"-\"\n",
        "        else:\n",
        "            return \"Error: Operator must be '+' or '-'\"\n",
        "\n",
        "        if (not exp[0].isdigit()) or (not exp[1].isdigit()):\n",
        "            return \"Error: Numbers must only contain digits\"\n",
        "        if len(exp[0]) > 6 or len(exp[1])> 6:\n",
        "            return \"Error: Numbers cannot be more than six digits\"\n",
        "        \n",
        "        if result:\n",
        "            res = str(eval(exp[0] + operator + exp[1]))\n",
        "        else:\n",
        "            res  = \"\"\n",
        "        \n",
        "        align = max([len(exp[0]), len(exp[1]), len(res)])\n",
        "\n",
        "        li1.append(\"  \" + exp[0].rjust(align))\n",
        "        li2.append(operator + \" \" + exp[1].rjust(align))\n",
        "        li3.append(\"-\" * (align + 2))\n",
        "        li4.append(\"  \" + res.rjust(align))\n",
        "    \n",
        "    line1 = \"    \".join(li1)\n",
        "    line2 = \"    \".join(li2)\n",
        "    line3 = \"    \".join(li3)\n",
        "\n",
        "    arranged_string = \"\\n\".join([line1, line2, line3])\n",
        "\n",
        "    if result:\n",
        "        line4 = \"    \".join(li4)\n",
        "        arranged_string += \"\\n\" + line4\n",
        "\n",
        "    arranged_string += \"\\n\" + line3\n",
        "    \n",
        "    return arranged_string\n",
        "    \n",
        "      \n",
        "\n",
        "# Test\n",
        "print(arithmetic_arranger([\"32 - 23\", \"1 - 3801\", \"9999 + 9999\", \"523 - 49\"], True))"
      ],
      "metadata": {
        "colab": {
          "base_uri": "https://localhost:8080/"
        },
        "id": "C5Zb0l6ZxhRV",
        "outputId": "3280c173-77d7-43e3-e04d-8759985ff086"
      },
      "execution_count": 5,
      "outputs": [
        {
          "output_type": "stream",
          "name": "stdout",
          "text": [
            "  32          1       9999      523\n",
            "- 23    -  3801    +  9999    -  49\n",
            "----    -------    -------    -----\n",
            "   9      -3800      19998      474\n",
            "----    -------    -------    -----\n"
          ]
        }
      ]
    }
  ]
}