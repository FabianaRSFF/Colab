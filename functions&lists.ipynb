{
  "nbformat": 4,
  "nbformat_minor": 0,
  "metadata": {
    "colab": {
      "name": "functions&lists.ipynb",
      "provenance": [],
      "authorship_tag": "ABX9TyOfWPYcW8OWVbWJU3Vw9qve",
      "include_colab_link": true
    },
    "kernelspec": {
      "name": "python3",
      "display_name": "Python 3"
    },
    "language_info": {
      "name": "python"
    }
  },
  "cells": [
    {
      "cell_type": "markdown",
      "metadata": {
        "id": "view-in-github",
        "colab_type": "text"
      },
      "source": [
        "<a href=\"https://colab.research.google.com/github/FabianaRSFF/Colab/blob/main/functions%26lists.ipynb\" target=\"_parent\"><img src=\"https://colab.research.google.com/assets/colab-badge.svg\" alt=\"Open In Colab\"/></a>"
      ]
    },
    {
      "cell_type": "code",
      "execution_count": null,
      "metadata": {
        "colab": {
          "base_uri": "https://localhost:8080/",
          "height": 38
        },
        "id": "H7Rd5pwhDmlZ",
        "outputId": "fb043135-e667-43f9-a7fe-1dec029af64c"
      },
      "outputs": [
        {
          "output_type": "execute_result",
          "data": {
            "text/plain": [
              "'func1(args= \"valor2\", kwargs=\"valor3\")\\nfunc2(args= \"valor2\", kwargs=\"valor3\")'"
            ],
            "application/vnd.google.colaboratory.intrinsic+json": {
              "type": "string"
            }
          },
          "metadata": {},
          "execution_count": 15
        }
      ],
      "source": [
        "# Função que recebe outra função como parâmetro e retorna o valor da função 2 executada.\n",
        "# Faça a função 1 executar duas funções que recebam um número diferente de argumentos.\n",
        "def func1(*args, **kwargs):\n",
        "  print(args, kwargs)\n",
        "\n",
        "def func2(args, kwargs):\n",
        "  args = \"valor2\"\n",
        "  kwargs = \"valor3\"\n",
        "  return func1\n",
        "\n",
        "  \n",
        "\n",
        "\"\"\"func1(args= \"valor2\", kwargs=\"valor3\")\n",
        "func2(args= \"valor2\", kwargs=\"valor3\")\"\"\"\n",
        "\n"
      ]
    },
    {
      "cell_type": "code",
      "source": [
        "def master(func, *args, **kwargs):\n",
        "  return func(*args, **kwargs)\n",
        "\n",
        "def hello(name):\n",
        "  return f'Hello {name}!'\n",
        "\n",
        "def salut(name, salut):\n",
        "  return f'{salut} {name}!'\n",
        "\n",
        "\n",
        "exec = master(salut, \"Fabiana\", \"Bonjour\")\n",
        "exec1 = master(hello, 'Fabiana')\n",
        "print(exec)\n",
        "print(exec1)\n"
      ],
      "metadata": {
        "colab": {
          "base_uri": "https://localhost:8080/"
        },
        "id": "e9MgOEa1HhbN",
        "outputId": "32fabe8e-6be0-4d85-cc2e-ca5bd4e8b27a"
      },
      "execution_count": null,
      "outputs": [
        {
          "output_type": "stream",
          "name": "stdout",
          "text": [
            "Bonjour Fabiana!\n",
            "Hello Fabiana!\n"
          ]
        }
      ]
    },
    {
      "cell_type": "code",
      "source": [
        "def hello_world():\n",
        "  return \"Hello World!\"\n",
        "\n",
        "def master(func):\n",
        "  return func()\n",
        "\n",
        "exec = master(hello_world)\n",
        "print(exec )"
      ],
      "metadata": {
        "colab": {
          "base_uri": "https://localhost:8080/"
        },
        "id": "3N8VTLDqJMzU",
        "outputId": "23018073-f774-450b-ed8f-40ae28ab80a2"
      },
      "execution_count": null,
      "outputs": [
        {
          "output_type": "stream",
          "name": "stdout",
          "text": [
            "Hello World!\n"
          ]
        }
      ]
    },
    {
      "cell_type": "code",
      "source": [
        "a = lambda x, y: x * y\n",
        "print(a(2, 5))"
      ],
      "metadata": {
        "colab": {
          "base_uri": "https://localhost:8080/"
        },
        "id": "5feprganT28b",
        "outputId": "bf5120bc-4849-4a61-814e-119a2d835b77"
      },
      "execution_count": null,
      "outputs": [
        {
          "output_type": "stream",
          "name": "stdout",
          "text": [
            "10\n"
          ]
        }
      ]
    },
    {
      "cell_type": "code",
      "source": [
        "list_1= [\n",
        "       ['P1', 13],\n",
        "       ['P2', 45],\n",
        "       ['P3', 12],\n",
        "       ['P4', 29],\n",
        "       ['P5', 19]\n",
        "]\n",
        "\n",
        "def func1(item):\n",
        "  return item[0]\n",
        "\n",
        "def func2(item):\n",
        "  return item[1]\n",
        "\n",
        "list_1.sort(key=func1, reverse=True)\n",
        "print(list_1)\n"
      ],
      "metadata": {
        "colab": {
          "base_uri": "https://localhost:8080/"
        },
        "id": "nMVw28f5UKYD",
        "outputId": "9a7c86c3-55d8-4e94-eb4e-7b467b49e07c"
      },
      "execution_count": null,
      "outputs": [
        {
          "output_type": "stream",
          "name": "stdout",
          "text": [
            "[['P5', 19], ['P4', 29], ['P3', 12], ['P2', 45], ['P1', 13]]\n"
          ]
        }
      ]
    },
    {
      "cell_type": "code",
      "source": [
        "list_2 = [\n",
        "          [\"F1\", 28],\n",
        "          [\"F2\", 2],\n",
        "          [\"F5\", 200],\n",
        "          [\"F1\", 65],\n",
        "          [\"F8\", 280],\n",
        "]\n",
        "\n",
        "list_2.sort(key=lambda item:item[1])\n",
        "print(list_2)"
      ],
      "metadata": {
        "colab": {
          "base_uri": "https://localhost:8080/"
        },
        "id": "WqfymAPKW_4s",
        "outputId": "502b1612-b85f-4b78-f72b-b68928e9f78b"
      },
      "execution_count": null,
      "outputs": [
        {
          "output_type": "stream",
          "name": "stdout",
          "text": [
            "[['F2', 2], ['F1', 28], ['F1', 65], ['F5', 200], ['F8', 280]]\n"
          ]
        }
      ]
    },
    {
      "cell_type": "code",
      "source": [
        "l1 = [10, 20, 30 ,40 ,50, 60, 70, 80, 90, 100 ]\n",
        "for v in l1:\n",
        "  print(v)\n",
        "l2 = [v for v in l1]\n",
        "print(l2)\n",
        "l3 = [v * 2 for v in l1]\n",
        "print(l3)\n",
        "l4 = [(v, v2) for v in l1 for v2 in range(3)]\n",
        "print(l4)"
      ],
      "metadata": {
        "colab": {
          "base_uri": "https://localhost:8080/"
        },
        "id": "DfqMTVwwZq9O",
        "outputId": "f7e32015-53d2-481f-e0e1-b9af0727692a"
      },
      "execution_count": null,
      "outputs": [
        {
          "output_type": "stream",
          "name": "stdout",
          "text": [
            "10\n",
            "20\n",
            "30\n",
            "40\n",
            "50\n",
            "60\n",
            "70\n",
            "80\n",
            "90\n",
            "100\n",
            "[10, 20, 30, 40, 50, 60, 70, 80, 90, 100]\n",
            "[20, 40, 60, 80, 100, 120, 140, 160, 180, 200]\n",
            "[(10, 0), (10, 1), (10, 2), (20, 0), (20, 1), (20, 2), (30, 0), (30, 1), (30, 2), (40, 0), (40, 1), (40, 2), (50, 0), (50, 1), (50, 2), (60, 0), (60, 1), (60, 2), (70, 0), (70, 1), (70, 2), (80, 0), (80, 1), (80, 2), (90, 0), (90, 1), (90, 2), (100, 0), (100, 1), (100, 2)]\n"
          ]
        }
      ]
    },
    {
      "cell_type": "code",
      "source": [
        "f1 = list(range(100))\n",
        "ex1 = [v if v % 3 == 0 else \"o\" for v in f1]\n",
        "print(ex1)"
      ],
      "metadata": {
        "colab": {
          "base_uri": "https://localhost:8080/"
        },
        "id": "x5b570TJeMmk",
        "outputId": "132e126d-c5a5-401d-f8ac-1373ad64c099"
      },
      "execution_count": null,
      "outputs": [
        {
          "output_type": "stream",
          "name": "stdout",
          "text": [
            "[0, 'o', 'o', 3, 'o', 'o', 6, 'o', 'o', 9, 'o', 'o', 12, 'o', 'o', 15, 'o', 'o', 18, 'o', 'o', 21, 'o', 'o', 24, 'o', 'o', 27, 'o', 'o', 30, 'o', 'o', 33, 'o', 'o', 36, 'o', 'o', 39, 'o', 'o', 42, 'o', 'o', 45, 'o', 'o', 48, 'o', 'o', 51, 'o', 'o', 54, 'o', 'o', 57, 'o', 'o', 60, 'o', 'o', 63, 'o', 'o', 66, 'o', 'o', 69, 'o', 'o', 72, 'o', 'o', 75, 'o', 'o', 78, 'o', 'o', 81, 'o', 'o', 84, 'o', 'o', 87, 'o', 'o', 90, 'o', 'o', 93, 'o', 'o', 96, 'o', 'o', 99]\n"
          ]
        }
      ]
    }
  ]
}