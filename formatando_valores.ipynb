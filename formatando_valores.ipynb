{
  "nbformat": 4,
  "nbformat_minor": 0,
  "metadata": {
    "colab": {
      "name": "formatando_valores.ipynb",
      "provenance": [],
      "authorship_tag": "ABX9TyOU8W9XJnkBmAf9Kyge2zsQ",
      "include_colab_link": true
    },
    "kernelspec": {
      "name": "python3",
      "display_name": "Python 3"
    },
    "language_info": {
      "name": "python"
    }
  },
  "cells": [
    {
      "cell_type": "markdown",
      "metadata": {
        "id": "view-in-github",
        "colab_type": "text"
      },
      "source": [
        "<a href=\"https://colab.research.google.com/github/FabianaRSFF/Colab/blob/main/formatando_valores.ipynb\" target=\"_parent\"><img src=\"https://colab.research.google.com/assets/colab-badge.svg\" alt=\"Open In Colab\"/></a>"
      ]
    },
    {
      "cell_type": "markdown",
      "source": [
        "Formatação com auxílio de 'f strings':"
      ],
      "metadata": {
        "id": "hKfTqiWC01Nk"
      }
    },
    {
      "cell_type": "code",
      "source": [
        "# Adicionando caracteres à esquerda:\n",
        "\n",
        "num_1 = 1\n",
        "print(f'{num_1:0>20}')\n",
        "\n",
        "num_2 = 2112\n",
        "print(f'{num_2:@>20}')\n",
        "\n"
      ],
      "metadata": {
        "colab": {
          "base_uri": "https://localhost:8080/"
        },
        "id": "mSiTOJrV1EH2",
        "outputId": "84aaefbb-bc07-4c66-93b0-660e319b2152"
      },
      "execution_count": 1,
      "outputs": [
        {
          "output_type": "stream",
          "name": "stdout",
          "text": [
            "00000000000000000001\n",
            "@@@@@@@@@@@@@@@@2112\n"
          ]
        }
      ]
    },
    {
      "cell_type": "code",
      "source": [
        "# Adicionando valores à direita:\n",
        "\n",
        "num_3 = 2\n",
        "print(f'{num_3:&<22}')\n",
        "\n",
        "num_4 = 666\n",
        "print(f'{num_4:@<10}')\n",
        "\n",
        "num_5 = 3\n",
        "print(f'{num_5:$<20}')\n"
      ],
      "metadata": {
        "colab": {
          "base_uri": "https://localhost:8080/"
        },
        "id": "uW9M8ZnF1r6X",
        "outputId": "7cea5f50-3797-4951-a8c1-6b8309a3d9dc"
      },
      "execution_count": 7,
      "outputs": [
        {
          "output_type": "stream",
          "name": "stdout",
          "text": [
            "2&&&&&&&&&&&&&&&&&&&&&\n",
            "666@@@@@@@\n",
            "3$$$$$$$$$$$$$$$$$$$\n"
          ]
        }
      ]
    },
    {
      "cell_type": "code",
      "source": [
        "# Colocando a variável no centro:\n",
        "print(f'{num_5:0^10}')\n",
        "print(f'{num_3:#^10}')"
      ],
      "metadata": {
        "colab": {
          "base_uri": "https://localhost:8080/"
        },
        "id": "-OyUlr8K3G8l",
        "outputId": "60ea8a11-bfe7-46f5-beef-681169059a39"
      },
      "execution_count": 9,
      "outputs": [
        {
          "output_type": "stream",
          "name": "stdout",
          "text": [
            "0000300000\n",
            "####2#####\n"
          ]
        }
      ]
    },
    {
      "cell_type": "code",
      "source": [
        "# Formatando inteiros para decimais:\n",
        "\n",
        "print(f'{num_3:.2f}')\n",
        "print(f'{num_4:.2f}')\n",
        "print(f'{num_4:0^10.2f}')\n",
        "print(f'{num_4:0>10.2f}')"
      ],
      "metadata": {
        "colab": {
          "base_uri": "https://localhost:8080/"
        },
        "id": "u_hn7f2c390e",
        "outputId": "6369bf99-a672-45e7-cf72-663c6acb7c9b"
      },
      "execution_count": 12,
      "outputs": [
        {
          "output_type": "stream",
          "name": "stdout",
          "text": [
            "2.00\n",
            "666.00\n",
            "00666.0000\n",
            "0000666.00\n"
          ]
        }
      ]
    },
    {
      "cell_type": "code",
      "source": [
        "voto = 'Lula'\n",
        "print(f'{voto:*^31}')"
      ],
      "metadata": {
        "colab": {
          "base_uri": "https://localhost:8080/"
        },
        "id": "JZYacWOi4RGe",
        "outputId": "b196d683-55a5-4cb8-ea0c-4e4444414312"
      },
      "execution_count": 13,
      "outputs": [
        {
          "output_type": "stream",
          "name": "stdout",
          "text": [
            "*************Lula**************\n"
          ]
        }
      ]
    },
    {
      "cell_type": "code",
      "source": [
        "palavra = 'Brasil'\n",
        "funcao_format = '{:@>20}'.format(palavra)\n",
        "print(funcao_format)"
      ],
      "metadata": {
        "colab": {
          "base_uri": "https://localhost:8080/"
        },
        "id": "TpfczE0e6CAN",
        "outputId": "fa89dda9-d1d9-467d-a14b-9afdd635ac3b"
      },
      "execution_count": 15,
      "outputs": [
        {
          "output_type": "stream",
          "name": "stdout",
          "text": [
            "@@@@@@@@@@@@@@Brasil\n"
          ]
        }
      ]
    },
    {
      "cell_type": "code",
      "source": [
        "nome2 = 'Fora Genocida!!!!!!!!!!!!!!!'\n",
        "funcao_format2 = '{:#>50}'.format(nome2)\n",
        "print(funcao_format2)"
      ],
      "metadata": {
        "colab": {
          "base_uri": "https://localhost:8080/"
        },
        "id": "p_-Qs0fX6nVp",
        "outputId": "f14a602f-7ee2-4bad-ba1f-cd98ffac317e"
      },
      "execution_count": 18,
      "outputs": [
        {
          "output_type": "stream",
          "name": "stdout",
          "text": [
            "######################Fora Genocida!!!!!!!!!!!!!!!\n"
          ]
        }
      ]
    },
    {
      "cell_type": "code",
      "source": [
        "nome = 'Pedro'\n",
        "sobrenome = 'Ernesto'\n",
        "nome_formatado = '{1}'.format(nome, sobrenome)\n",
        "print(nome_formatado)\n",
        "nome_formatado = '{0}'.format(nome, sobrenome)\n",
        "print(nome_formatado)\n",
        "nome_formatado = '{0:*>10}{1:*<10}'.format(nome, sobrenome)\n",
        "print(nome_formatado)"
      ],
      "metadata": {
        "colab": {
          "base_uri": "https://localhost:8080/"
        },
        "id": "cu9mvp0D7pAG",
        "outputId": "cee27892-483e-4211-df30-c40dc349ebe2"
      },
      "execution_count": 28,
      "outputs": [
        {
          "output_type": "stream",
          "name": "stdout",
          "text": [
            "Ernesto\n",
            "Pedro\n",
            "*****PedroErnesto***\n"
          ]
        }
      ]
    },
    {
      "cell_type": "code",
      "source": [
        "palavra = 'livro'\n",
        "palavra = palavra.ljust(10, '*')\n",
        "print(palavra)\n",
        "print(palavra.title())\n",
        "print(palavra.capitalize())\n",
        "print(palavra.upper())"
      ],
      "metadata": {
        "colab": {
          "base_uri": "https://localhost:8080/"
        },
        "id": "BjSJAB7m9w-u",
        "outputId": "05da3de9-1862-47a8-bd10-ba01b6b81df7"
      },
      "execution_count": 35,
      "outputs": [
        {
          "output_type": "stream",
          "name": "stdout",
          "text": [
            "livro*****\n",
            "Livro*****\n",
            "Livro*****\n",
            "LIVRO*****\n"
          ]
        }
      ]
    }
  ]
}