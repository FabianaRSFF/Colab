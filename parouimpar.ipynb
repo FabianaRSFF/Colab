{
  "nbformat": 4,
  "nbformat_minor": 0,
  "metadata": {
    "colab": {
      "name": "parouimpar.ipynb",
      "provenance": [],
      "authorship_tag": "ABX9TyP/FeEe44ga4G3ZeE5cM3oA",
      "include_colab_link": true
    },
    "kernelspec": {
      "name": "python3",
      "display_name": "Python 3"
    },
    "language_info": {
      "name": "python"
    }
  },
  "cells": [
    {
      "cell_type": "markdown",
      "metadata": {
        "id": "view-in-github",
        "colab_type": "text"
      },
      "source": [
        "<a href=\"https://colab.research.google.com/github/FabianaRSFF/Colab/blob/main/parouimpar.ipynb\" target=\"_parent\"><img src=\"https://colab.research.google.com/assets/colab-badge.svg\" alt=\"Open In Colab\"/></a>"
      ]
    },
    {
      "cell_type": "code",
      "source": [
        "num = input('Digite um número inteiro: ')\n",
        "if num.isdigit():\n",
        "  num = int(num)\n",
        "\n",
        "  if num % 2 == 0:\n",
        "    print(' Número par.')\n",
        "  else:\n",
        "    print('Número ímpar.')\n",
        "else:\n",
        "  print('Isso não é um número inteiro.')    "
      ],
      "metadata": {
        "colab": {
          "base_uri": "https://localhost:8080/"
        },
        "id": "QwbTV51tWiQa",
        "outputId": "3a255f7c-90ed-48d8-9701-e67fe057e6da"
      },
      "execution_count": 17,
      "outputs": [
        {
          "output_type": "stream",
          "name": "stdout",
          "text": [
            "Digite um número inteiro: 4.3\n",
            "Isso não é um número inteiro.\n"
          ]
        }
      ]
    }
  ]
}