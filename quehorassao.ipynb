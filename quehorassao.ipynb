{
  "nbformat": 4,
  "nbformat_minor": 0,
  "metadata": {
    "colab": {
      "name": "quehorassao.ipynb",
      "provenance": [],
      "authorship_tag": "ABX9TyOQyjudBzGfXIInQ8nxZsp5",
      "include_colab_link": true
    },
    "kernelspec": {
      "name": "python3",
      "display_name": "Python 3"
    },
    "language_info": {
      "name": "python"
    }
  },
  "cells": [
    {
      "cell_type": "markdown",
      "metadata": {
        "id": "view-in-github",
        "colab_type": "text"
      },
      "source": [
        "<a href=\"https://colab.research.google.com/github/FabianaRSFF/Colab/blob/main/quehorassao.ipynb\" target=\"_parent\"><img src=\"https://colab.research.google.com/assets/colab-badge.svg\" alt=\"Open In Colab\"/></a>"
      ]
    },
    {
      "cell_type": "code",
      "execution_count": 5,
      "metadata": {
        "colab": {
          "base_uri": "https://localhost:8080/"
        },
        "id": "O11NHuvVbLJj",
        "outputId": "f4543ec5-9bc3-4ea0-af05-059f96b29c5d"
      },
      "outputs": [
        {
          "output_type": "stream",
          "name": "stdout",
          "text": [
            "Que horas são por favor?23\n",
            "Boa Noite!!!!\n"
          ]
        }
      ],
      "source": [
        "hora = input('Que horas são por favor?')\n",
        "hora = float(hora)\n",
        "\n",
        "\n",
        "if hora >= 0 and hora <= 11.59:\n",
        "  print('Bom dia!')\n",
        "elif hora >= 12 and hora <= 17.59:\n",
        "  print('Boa tarde!')\n",
        "elif hora >= 18 and hora <= 23.59:\n",
        "  print('Boa Noite!!!!')"
      ]
    }
  ]
}