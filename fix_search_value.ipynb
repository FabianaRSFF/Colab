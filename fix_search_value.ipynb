{
  "nbformat": 4,
  "nbformat_minor": 0,
  "metadata": {
    "colab": {
      "name": "fix_search_value.ipynb",
      "provenance": [],
      "authorship_tag": "ABX9TyN59u2W6FnCtwy6NCfZcHL0",
      "include_colab_link": true
    },
    "kernelspec": {
      "name": "python3",
      "display_name": "Python 3"
    },
    "language_info": {
      "name": "python"
    }
  },
  "cells": [
    {
      "cell_type": "markdown",
      "metadata": {
        "id": "view-in-github",
        "colab_type": "text"
      },
      "source": [
        "<a href=\"https://colab.research.google.com/github/FabianaRSFF/Colab/blob/main/fix_search_value.ipynb\" target=\"_parent\"><img src=\"https://colab.research.google.com/assets/colab-badge.svg\" alt=\"Open In Colab\"/></a>"
      ]
    },
    {
      "cell_type": "code",
      "execution_count": 9,
      "metadata": {
        "id": "4TMeH8Eh6sxd"
      },
      "outputs": [],
      "source": [
        "def fix_search_value(a):\n",
        "    a = ('    A    ').strip()\n",
        "    return a.strip()\n",
        "    print(a.strip)\n",
        " \n",
        " \n",
        "if __name__ == '__main__':\n",
        "    # stripped_string deve conter o valor de 'A' (sem espaços)\n",
        "    stripped_string = fix_search_value('     A     ')\n",
        " \n"
      ]
    }
  ]
}