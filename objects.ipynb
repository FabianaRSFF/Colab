{
  "nbformat": 4,
  "nbformat_minor": 0,
  "metadata": {
    "colab": {
      "name": "objects.ipynb",
      "provenance": [],
      "authorship_tag": "ABX9TyPlAyt+hl1tfYoZHB1oMIEW",
      "include_colab_link": true
    },
    "kernelspec": {
      "name": "python3",
      "display_name": "Python 3"
    },
    "language_info": {
      "name": "python"
    }
  },
  "cells": [
    {
      "cell_type": "markdown",
      "metadata": {
        "id": "view-in-github",
        "colab_type": "text"
      },
      "source": [
        "<a href=\"https://colab.research.google.com/github/FabianaRSFF/Colab/blob/main/objects.ipynb\" target=\"_parent\"><img src=\"https://colab.research.google.com/assets/colab-badge.svg\" alt=\"Open In Colab\"/></a>"
      ]
    },
    {
      "cell_type": "code",
      "execution_count": 2,
      "metadata": {
        "colab": {
          "base_uri": "https://localhost:8080/"
        },
        "id": "wshJKewE8tzT",
        "outputId": "6f02cea7-aa1b-4101-f816-cf7db39d8de3"
      },
      "outputs": [
        {
          "output_type": "stream",
          "name": "stdout",
          "text": [
            "I'm constructed\n",
            "So far 1\n",
            "So far 2\n",
            "I am destructed 2\n",
            "an contains 42\n"
          ]
        }
      ],
      "source": [
        "class PartyAnimal:\n",
        "  x = 0\n",
        "\n",
        "  def __init__(self):\n",
        "    print(\"I'm constructed\")\n",
        "\n",
        "  def party(self):\n",
        "    self.x = self.x + 1\n",
        "    print(\"So far\", self.x)\n",
        "\n",
        "  def __del__(self):\n",
        "    print(\"I am destructed\", self.x)\n",
        "\n",
        "\n",
        "an = PartyAnimal()\n",
        "an.party()\n",
        "an.party()\n",
        "an = 42\n",
        "print(\"an contains\", an)\n"
      ]
    },
    {
      "cell_type": "code",
      "source": [
        "class PartyAnimal:\n",
        "    x = 0\n",
        "    name = ''\n",
        "    def __init__(self, nam):\n",
        "        self.name = nam\n",
        "        print(self.name,'constructed')\n",
        "    def party(self):\n",
        "        self.x = self.x + 1\n",
        "        print(self.name,'party count',self.x)\n",
        "\n",
        "q = PartyAnimal('Quincy')\n",
        "m = PartyAnimal('Miya')\n",
        "\n",
        "q.party()\n",
        "m.party()\n",
        "q.party()"
      ],
      "metadata": {
        "colab": {
          "base_uri": "https://localhost:8080/"
        },
        "id": "yBFr0m6wBbY2",
        "outputId": "fd11078a-e4e5-4a33-92f8-36952f64bed5"
      },
      "execution_count": 3,
      "outputs": [
        {
          "output_type": "stream",
          "name": "stdout",
          "text": [
            "Quincy constructed\n",
            "Miya constructed\n",
            "Quincy party count 1\n",
            "Miya party count 1\n",
            "Quincy party count 2\n"
          ]
        }
      ]
    },
    {
      "cell_type": "code",
      "source": [
        "class PartyAnimal:\n",
        "    x = 0\n",
        "    name = ''\n",
        "    def __init__(self, nam):\n",
        "        self.name = nam\n",
        "        print(self.name,'constructed')\n",
        "    def party(self):\n",
        "        self.x = self.x + 1\n",
        "        print(self.name,'party count',self.x)\n",
        "\n",
        "\n",
        "class FootballFun(PartyAnimal):\n",
        "  points = 0\n",
        "  def touchdown(self):\n",
        "    self.points = self.points + 7\n",
        "    self.party()\n",
        "    print(self.name, \"points\", self.points)\n",
        "\n",
        "s = PartyAnimal('Sally')\n",
        "s.party()\n",
        "\n",
        "j = FootballFun(\"Jim\")\n",
        "j.party()\n",
        "j.touchdown()"
      ],
      "metadata": {
        "colab": {
          "base_uri": "https://localhost:8080/"
        },
        "id": "4AUBsKfWCKdW",
        "outputId": "e8ff6a73-8f44-40fd-a13d-9847545f9610"
      },
      "execution_count": 4,
      "outputs": [
        {
          "output_type": "stream",
          "name": "stdout",
          "text": [
            "Sally constructed\n",
            "Sally party count 1\n",
            "Jim constructed\n",
            "Jim party count 1\n",
            "Jim party count 2\n",
            "Jim points 7\n"
          ]
        }
      ]
    }
  ]
}