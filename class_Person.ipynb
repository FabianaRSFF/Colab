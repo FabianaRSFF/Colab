{
  "nbformat": 4,
  "nbformat_minor": 0,
  "metadata": {
    "colab": {
      "name": "class_Person.ipynb",
      "provenance": [],
      "authorship_tag": "ABX9TyMBaY4jG3s59b0uymFMkMR0",
      "include_colab_link": true
    },
    "kernelspec": {
      "name": "python3",
      "display_name": "Python 3"
    },
    "language_info": {
      "name": "python"
    }
  },
  "cells": [
    {
      "cell_type": "markdown",
      "metadata": {
        "id": "view-in-github",
        "colab_type": "text"
      },
      "source": [
        "<a href=\"https://colab.research.google.com/github/FabianaRSFF/Colab/blob/main/class_Person.ipynb\" target=\"_parent\"><img src=\"https://colab.research.google.com/assets/colab-badge.svg\" alt=\"Open In Colab\"/></a>"
      ]
    },
    {
      "cell_type": "code",
      "execution_count": 11,
      "metadata": {
        "colab": {
          "base_uri": "https://localhost:8080/"
        },
        "id": "z5W5xydQlrQu",
        "outputId": "c3d9293a-e513-452d-f0fc-f18f1b5712f3"
      },
      "outputs": [
        {
          "output_type": "stream",
          "name": "stdout",
          "text": [
            "John is eating apple.\n",
            "John is cannot eat and talk.\n",
            "Lenon is talking about climate change.\n",
            "John is already eating.\n",
            "John is not eating anymore.\n",
            "John is talking about climate change.\n",
            "Lenon cannot eat talking.\n",
            "Lenon is eating apple.\n",
            "John cannot eat talking.\n",
            "John is eating bread.\n",
            "John is cannot eat and talk.\n",
            "John is not eating anymore.\n",
            "John is already talking.\n"
          ]
        }
      ],
      "source": [
        "class Person():\n",
        "  def __init__(self, name, age, eating=False, talking=False):\n",
        "    self.name = name\n",
        "    self.age = age\n",
        "    self.eating  = eating\n",
        "    self.talking = talking\n",
        "\n",
        "  def eat(self,food):\n",
        "    if self.eating:\n",
        "       print(f'{self.name} is already eating.')\n",
        "       return\n",
        "    if self.talking:\n",
        "      print(f'{self.name} cannot eat talking.')\n",
        "\n",
        "    print(f'{self.name} is eating {food}.')\n",
        "    self.eating = True\n",
        "\n",
        "  def stop_eat(self):\n",
        "    if not self.eating:\n",
        "      print(f'{self.name} is not eating.')\n",
        "      return\n",
        "    print(f'{self.name} is not eating anymore.')\n",
        "    self.eating = False\n",
        "\n",
        "\n",
        "  def talk(self, subject):\n",
        "    if self.eating:\n",
        "      print(f'{self.name} cannot eat and talk.')\n",
        "      return\n",
        "    if self.talking:\n",
        "      print(f'{self.name} is already talking.')\n",
        "      return\n",
        "\n",
        "    print(f'{self.name} is talking about {subject}.')\n",
        "    self.talking = True\n",
        "    \n",
        "\n",
        "  def stop_talk(self):\n",
        "    if not self.talking:\n",
        "      print(f'{self.name} is not talking.')\n",
        "      return\n",
        "\n",
        "    print(f'{self.name} just stop talking.')\n",
        "    self.talking = False\n",
        "\n",
        "p1 = Person('John', 35)\n",
        "p2 = Person('Lenon', 35)\n",
        "\n",
        "\n",
        "p1.eat('apple')\n",
        "p1.talk('climate change')\n",
        "p2.talk('climate change')\n",
        "p1.eat('apple')\n",
        "p1.stop_eat()\n",
        "p1.talk('climate change')\n",
        "p2.eat('apple')\n",
        "p1.eat('bread')\n",
        "p1.talk('climate change')\n",
        "p1.stop_eat()\n",
        "p1.talk('climate change')"
      ]
    }
  ]
}