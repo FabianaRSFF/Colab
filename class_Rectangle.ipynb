{
  "nbformat": 4,
  "nbformat_minor": 0,
  "metadata": {
    "colab": {
      "name": "class_Rectangle.ipynb",
      "provenance": [],
      "authorship_tag": "ABX9TyOcTD93ou+hugYLFylugvtN",
      "include_colab_link": true
    },
    "kernelspec": {
      "name": "python3",
      "display_name": "Python 3"
    },
    "language_info": {
      "name": "python"
    }
  },
  "cells": [
    {
      "cell_type": "markdown",
      "metadata": {
        "id": "view-in-github",
        "colab_type": "text"
      },
      "source": [
        "<a href=\"https://colab.research.google.com/github/FabianaRSFF/Colab/blob/main/class_Rectangle.ipynb\" target=\"_parent\"><img src=\"https://colab.research.google.com/assets/colab-badge.svg\" alt=\"Open In Colab\"/></a>"
      ]
    },
    {
      "cell_type": "code",
      "execution_count": 19,
      "metadata": {
        "colab": {
          "base_uri": "https://localhost:8080/"
        },
        "id": "s9fKGcjoJ8MT",
        "outputId": "a1b9221d-bd07-4c97-aa52-3a1f8ea1c691"
      },
      "outputs": [
        {
          "output_type": "stream",
          "name": "stdout",
          "text": [
            "The area is 0 cm².\n",
            "The area is 200 cm².\n",
            "The perimeter is 60 cm.\n",
            "425.9545535194701 cm.\n",
            "********************\n",
            "********************\n",
            "********************\n",
            "********************\n",
            "********************\n",
            "********************\n",
            "********************\n",
            "********************\n",
            "********************\n",
            "********************\n",
            "\n"
          ]
        }
      ],
      "source": [
        "class Rectangle:\n",
        "  def __init__(self, width=0, height=0):\n",
        "    self.width = width\n",
        "    self.height = height\n",
        "\n",
        "  def __repr__(self) -> str:\n",
        "      return f\" The rectangle width({self.width}, height{self.height}). \"\n",
        "  \n",
        "  \n",
        "  def set_widht(self, width):\n",
        "    self.width = width\n",
        "\n",
        "  def set_height(self, height):\n",
        "   self.height = height\n",
        "\n",
        "  def get_area(self):\n",
        "   print(f\"The area is {self.width * self.height} cm².\")\n",
        "\n",
        "  def get_perimeter(self):\n",
        "   print(f\"The perimeter is {2 * self.width + 2 * self.height} cm.\")\n",
        "\n",
        "  def get_diagonal(self):\n",
        "   print(f\"{self.width ** 2 + self.height ** 2 ** .5} cm.\")\n",
        "\n",
        "  def get_picture(self):\n",
        "    if self.width > 50 or self.height > 50:\n",
        "      return 'Too big for picture'\n",
        "    \n",
        "    s = \"\"\n",
        "    for row in range(self.height):\n",
        "        s += \"*\" * self.width + \"\\n\"\n",
        "    return s\n",
        "   \n",
        "\n",
        "  def get_amount_inside(self, shape):\n",
        "    i_area = shape.width * shape.height\n",
        "    r_area = self.get_area()\n",
        "    return r_area // i_area\n",
        "\n",
        "\n",
        "class Square(Rectangle):\n",
        "  def __init__(self, side):\n",
        "      super().__init__(side)\n",
        "\n",
        "  def __repr__(self) -> str:\n",
        "      return f\" The square (side{self.width}). \"\n",
        "\n",
        "  def set_side(self, side):\n",
        "    self.width = side\n",
        "    self.height = side\n",
        "    return side\n",
        "\n",
        "  def set_widht(self, side):\n",
        "    self.set_side(side)\n",
        "\n",
        "  def set_height(self, side):\n",
        "    self.set_side(side)\n",
        "      \n",
        "  \n",
        "s = Square(10)\n",
        "r = Rectangle(20, 10)\n",
        "s.get_area()\n",
        "r.get_area()\n",
        "r.get_perimeter()\n",
        "r.get_diagonal()\n",
        "print(r.get_picture())\n",
        "\n"
      ]
    }
  ]
}