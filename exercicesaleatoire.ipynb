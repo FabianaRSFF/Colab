{
  "nbformat": 4,
  "nbformat_minor": 0,
  "metadata": {
    "colab": {
      "provenance": [],
      "authorship_tag": "ABX9TyN5al9+sbZHkxj0KWe0ar3V",
      "include_colab_link": true
    },
    "kernelspec": {
      "name": "python3",
      "display_name": "Python 3"
    },
    "language_info": {
      "name": "python"
    }
  },
  "cells": [
    {
      "cell_type": "markdown",
      "metadata": {
        "id": "view-in-github",
        "colab_type": "text"
      },
      "source": [
        "<a href=\"https://colab.research.google.com/github/FabianaRSFF/Colab/blob/main/exercicesaleatoire.ipynb\" target=\"_parent\"><img src=\"https://colab.research.google.com/assets/colab-badge.svg\" alt=\"Open In Colab\"/></a>"
      ]
    },
    {
      "cell_type": "code",
      "execution_count": null,
      "metadata": {
        "colab": {
          "base_uri": "https://localhost:8080/"
        },
        "id": "OIkvOW6J2Owg",
        "outputId": "d4afcb7e-fc56-43d3-d8ea-711c82963424"
      },
      "outputs": [
        {
          "output_type": "stream",
          "name": "stdout",
          "text": [
            "30\n"
          ]
        }
      ],
      "source": [
        "def outer():\n",
        "  x = 10\n",
        "  def inner():\n",
        "    nonlocal x\n",
        "    x += 5\n",
        "    def inside_inner():\n",
        "      nonlocal x\n",
        "      x *=2\n",
        "    inside_inner()\n",
        "\n",
        "  inner()\n",
        "  return x\n",
        "\n",
        "print(outer())"
      ]
    },
    {
      "cell_type": "code",
      "source": [],
      "metadata": {
        "id": "Yps9dkxbuYHh"
      },
      "execution_count": null,
      "outputs": []
    },
    {
      "cell_type": "code",
      "source": [
        "def func1(words, nums):\n",
        "  result = tuple(w[:][0] for w in words or nums)\n",
        "  return result \n",
        "\n",
        "tuple_of_words  = (\"apple\", \"banana\", \"cherry\")\n",
        "list_of_nums = [1, 2, 3]\n",
        "print(func1(tuple_of_words, list_of_nums))\n"
      ],
      "metadata": {
        "colab": {
          "base_uri": "https://localhost:8080/"
        },
        "id": "B0vlEeQ21qc-",
        "outputId": "ad1674d6-2548-4ce0-d4d7-57e97efef563"
      },
      "execution_count": null,
      "outputs": [
        {
          "output_type": "stream",
          "name": "stdout",
          "text": [
            "('a', 'b', 'c')\n"
          ]
        }
      ]
    },
    {
      "cell_type": "code",
      "source": [
        "def outer():\n",
        "  x = 1\n",
        "\n",
        "  def inner():\n",
        "    x = 2\n",
        "    return 2\n",
        "\n",
        "  inner()\n",
        "  return x\n",
        "\n",
        "print(outer())"
      ],
      "metadata": {
        "colab": {
          "base_uri": "https://localhost:8080/"
        },
        "id": "J2GzVpaA6chI",
        "outputId": "b7dfa2a9-dc09-4a96-ab2a-ed79fb9d3542"
      },
      "execution_count": null,
      "outputs": [
        {
          "output_type": "stream",
          "name": "stdout",
          "text": [
            "1\n"
          ]
        }
      ]
    },
    {
      "cell_type": "code",
      "source": [
        "x = 3\n",
        "def outerouter():\n",
        "  x = 7\n",
        "  def outer():\n",
        "    nonlocal x\n",
        "\n",
        "    def inner():\n",
        "      global x \n",
        "      x = 9\n",
        "      print(x)\n",
        "\n",
        "    inner()\n",
        "    print(x)\n",
        "  outer()\n",
        "  print(x) \n",
        "\n",
        "outerouter()\n",
        "print(x)   \n"
      ],
      "metadata": {
        "colab": {
          "base_uri": "https://localhost:8080/"
        },
        "id": "y8hKWJ3OCls5",
        "outputId": "b0a61cf1-07a8-4118-f333-b35a4e3a5cd9"
      },
      "execution_count": null,
      "outputs": [
        {
          "output_type": "stream",
          "name": "stdout",
          "text": [
            "9\n",
            "7\n",
            "7\n",
            "9\n"
          ]
        }
      ]
    },
    {
      "cell_type": "code",
      "source": [
        "a = 'Pythonp'\n",
        "print(a.index(\"p\"))"
      ],
      "metadata": {
        "colab": {
          "base_uri": "https://localhost:8080/"
        },
        "id": "N-meFYMwGKl2",
        "outputId": "68e6f7f3-9b43-4c7f-fbdc-a0ded850eb87"
      },
      "execution_count": null,
      "outputs": [
        {
          "output_type": "stream",
          "name": "stdout",
          "text": [
            "6\n"
          ]
        }
      ]
    },
    {
      "cell_type": "code",
      "source": [
        "def func(arr1, arr2):\n",
        "  return any(True if x == y else False for x in arr1 for y in arr2)\n",
        "\n",
        "print(func([1, 2, 3], [4, 3, 2, 1]))"
      ],
      "metadata": {
        "colab": {
          "base_uri": "https://localhost:8080/"
        },
        "id": "4XTUCINamEYL",
        "outputId": "0df6fe09-3f9b-4783-ab59-3f6a1bde44f2"
      },
      "execution_count": null,
      "outputs": [
        {
          "output_type": "stream",
          "name": "stdout",
          "text": [
            "True\n"
          ]
        }
      ]
    },
    {
      "cell_type": "code",
      "source": [
        "def my_function():\n",
        "  try:\n",
        "    print(\"Hello\")\n",
        "    return \n",
        "  finally:\n",
        "    print(\"World\")\n",
        "my_function()"
      ],
      "metadata": {
        "colab": {
          "base_uri": "https://localhost:8080/"
        },
        "id": "YYaHxCllwpok",
        "outputId": "d5f5c6e8-5ae0-40a3-cc81-24fce047a09b"
      },
      "execution_count": null,
      "outputs": [
        {
          "output_type": "stream",
          "name": "stdout",
          "text": [
            "Hello\n",
            "World\n"
          ]
        }
      ]
    },
    {
      "cell_type": "code",
      "source": [
        "def func():\n",
        "  a, *b=[\"Harry\", \"Precious\", \"Peter\"]\n",
        "  names = b\n",
        "  return \"Harry\" in [names]\n",
        "\n",
        "print(func())"
      ],
      "metadata": {
        "colab": {
          "base_uri": "https://localhost:8080/"
        },
        "id": "i4i89l4ymY_K",
        "outputId": "0ca65640-1e60-4d2f-e410-c4dea63ab240"
      },
      "execution_count": null,
      "outputs": [
        {
          "output_type": "stream",
          "name": "stdout",
          "text": [
            "False\n"
          ]
        }
      ]
    },
    {
      "cell_type": "code",
      "source": [
        "import itertools\n",
        "\n",
        "class Repeat:\n",
        "  def __init__(self, value=\"world\"):\n",
        "    self.value = value\n",
        "\n",
        "  def __iter__(self):\n",
        "    return itertools.repeat(self.value)\n",
        "\n",
        "rf = Repeat(\"Hello\")\n",
        "rf = Repeat()\n",
        "print(list(itertools.islice(rf, 3)))\n",
        "\n",
        "\n"
      ],
      "metadata": {
        "colab": {
          "base_uri": "https://localhost:8080/"
        },
        "id": "NGzdYTJ0qbXp",
        "outputId": "b929546b-5e5d-4642-8fe9-2f5b8101a1c3"
      },
      "execution_count": null,
      "outputs": [
        {
          "output_type": "stream",
          "name": "stdout",
          "text": [
            "['world', 'world', 'world']\n"
          ]
        }
      ]
    },
    {
      "cell_type": "code",
      "source": [
        "class Counter:\n",
        "  def __init__(self):\n",
        "    self.count = 0\n",
        "  def increment(self):\n",
        "    self.count += 2\n",
        "  def decrement(self):\n",
        "    self.count -= 2\n",
        "  def get_count(self):\n",
        "    return self.count \n",
        "\n",
        "c1 = Counter()\n",
        "c2 = Counter()\n",
        "\n",
        "c1.increment()\n",
        "c1.increment()\n",
        "\n",
        "c1.decrement()\n",
        "print(c2.get_count())"
      ],
      "metadata": {
        "colab": {
          "base_uri": "https://localhost:8080/"
        },
        "id": "INmQRoZssffA",
        "outputId": "dee947df-5123-4fae-ba5b-f01d04b7847b"
      },
      "execution_count": null,
      "outputs": [
        {
          "output_type": "stream",
          "name": "stdout",
          "text": [
            "0\n"
          ]
        }
      ]
    },
    {
      "cell_type": "code",
      "source": [
        "my_num = 34\n",
        "converted_my_num = str(my_num)\n",
        "print(converted_my_num)"
      ],
      "metadata": {
        "colab": {
          "base_uri": "https://localhost:8080/"
        },
        "id": "lR_-h4zX52de",
        "outputId": "72aa3e5a-3bb5-4181-fcb0-3a5c7afd3e5f"
      },
      "execution_count": null,
      "outputs": [
        {
          "output_type": "stream",
          "name": "stdout",
          "text": [
            "34\n"
          ]
        }
      ]
    },
    {
      "cell_type": "code",
      "source": [
        "from posixpath import join\n",
        "my_list = [\"Fabi\", \"Ana\", \"França\"]\n",
        "converted_my_list = ' ''de'' '.join(my_list)\n",
        "print(converted_my_list)"
      ],
      "metadata": {
        "colab": {
          "base_uri": "https://localhost:8080/"
        },
        "id": "AmNomaYK6gLh",
        "outputId": "867ebe6e-d279-4140-917f-ee26cbb70ce0"
      },
      "execution_count": null,
      "outputs": [
        {
          "output_type": "stream",
          "name": "stdout",
          "text": [
            "Fabi de Ana de França\n"
          ]
        }
      ]
    },
    {
      "cell_type": "code",
      "source": [
        "a = {1, 2, 3}\n",
        "b = {1, 2, 3}\n",
        "print(*(a + b))"
      ],
      "metadata": {
        "colab": {
          "base_uri": "https://localhost:8080/",
          "height": 200
        },
        "id": "KuWgMbBDHDNU",
        "outputId": "e12bf391-2f58-4bba-dad3-5d606fb8d53d"
      },
      "execution_count": null,
      "outputs": [
        {
          "output_type": "error",
          "ename": "TypeError",
          "evalue": "ignored",
          "traceback": [
            "\u001b[0;31m---------------------------------------------------------------------------\u001b[0m",
            "\u001b[0;31mTypeError\u001b[0m                                 Traceback (most recent call last)",
            "\u001b[0;32m<ipython-input-7-2dc42d6d0ffb>\u001b[0m in \u001b[0;36m<cell line: 3>\u001b[0;34m()\u001b[0m\n\u001b[1;32m      1\u001b[0m \u001b[0ma\u001b[0m \u001b[0;34m=\u001b[0m \u001b[0;34m{\u001b[0m\u001b[0;36m1\u001b[0m\u001b[0;34m,\u001b[0m \u001b[0;36m2\u001b[0m\u001b[0;34m,\u001b[0m \u001b[0;36m3\u001b[0m\u001b[0;34m}\u001b[0m\u001b[0;34m\u001b[0m\u001b[0;34m\u001b[0m\u001b[0m\n\u001b[1;32m      2\u001b[0m \u001b[0mb\u001b[0m \u001b[0;34m=\u001b[0m \u001b[0;34m{\u001b[0m\u001b[0;36m1\u001b[0m\u001b[0;34m,\u001b[0m \u001b[0;36m2\u001b[0m\u001b[0;34m,\u001b[0m \u001b[0;36m3\u001b[0m\u001b[0;34m}\u001b[0m\u001b[0;34m\u001b[0m\u001b[0;34m\u001b[0m\u001b[0m\n\u001b[0;32m----> 3\u001b[0;31m \u001b[0mprint\u001b[0m\u001b[0;34m(\u001b[0m\u001b[0;34m*\u001b[0m\u001b[0;34m(\u001b[0m\u001b[0ma\u001b[0m \u001b[0;34m+\u001b[0m \u001b[0mb\u001b[0m\u001b[0;34m)\u001b[0m\u001b[0;34m)\u001b[0m\u001b[0;34m\u001b[0m\u001b[0;34m\u001b[0m\u001b[0m\n\u001b[0m",
            "\u001b[0;31mTypeError\u001b[0m: unsupported operand type(s) for +: 'set' and 'set'"
          ]
        }
      ]
    },
    {
      "cell_type": "code",
      "source": [
        "Python = (4, 5, 6, 7, 8)\n",
        "Python = Python[2:]\n",
        "Python = Python[2:]+(8,)\n",
        "print(Python)"
      ],
      "metadata": {
        "colab": {
          "base_uri": "https://localhost:8080/"
        },
        "id": "hNa5WN-NGYOG",
        "outputId": "66322119-b162-486a-f327-ba387af8e84c"
      },
      "execution_count": null,
      "outputs": [
        {
          "output_type": "stream",
          "name": "stdout",
          "text": [
            "(8, 8)\n"
          ]
        }
      ]
    },
    {
      "cell_type": "code",
      "source": [
        "def func(a):\n",
        "  if type(a) == list:\n",
        "    a[0]= 2\n",
        "  return x\n",
        "x=(1, 2, 3)\n",
        "print(func(x))"
      ],
      "metadata": {
        "colab": {
          "base_uri": "https://localhost:8080/"
        },
        "id": "jMIksYVCAclZ",
        "outputId": "485ad62e-70f9-48f0-9046-73225755d37a"
      },
      "execution_count": null,
      "outputs": [
        {
          "output_type": "stream",
          "name": "stdout",
          "text": [
            "(1, 2, 3)\n"
          ]
        }
      ]
    },
    {
      "cell_type": "code",
      "source": [
        "def func(lst):\n",
        "  for i in range(len(lst)):\n",
        "    lst[i] *= lst[i]\n",
        "  return lst\n",
        "  \n",
        "lst = [2]\n",
        "func(lst)\n",
        "print(func(lst))"
      ],
      "metadata": {
        "colab": {
          "base_uri": "https://localhost:8080/"
        },
        "id": "ZE220dH0tm5t",
        "outputId": "15d99775-0164-4bd1-f8b5-1757861b681c"
      },
      "execution_count": null,
      "outputs": [
        {
          "output_type": "stream",
          "name": "stdout",
          "text": [
            "[16]\n"
          ]
        }
      ]
    },
    {
      "cell_type": "code",
      "source": [
        "def func(lst):\n",
        "  for i in lst:\n",
        "    return i\n",
        "\n",
        "lst = [3]\n",
        "func(lst)\n",
        "print(func(lst))"
      ],
      "metadata": {
        "colab": {
          "base_uri": "https://localhost:8080/"
        },
        "id": "jfRD4tbAvFXj",
        "outputId": "fee8fb6c-0847-4ad5-93a9-6407c5934ba3"
      },
      "execution_count": null,
      "outputs": [
        {
          "output_type": "stream",
          "name": "stdout",
          "text": [
            "3\n"
          ]
        }
      ]
    },
    {
      "cell_type": "code",
      "source": [
        "def func(lst):\n",
        "  for i in range(len(lst)):\n",
        "    lst[i] *= lst[i]\n",
        "  return lst\n",
        "\n",
        "lst = [4]\n",
        "func(lst)\n",
        "print(func(lst))"
      ],
      "metadata": {
        "colab": {
          "base_uri": "https://localhost:8080/"
        },
        "id": "K8PK85VfwU6Y",
        "outputId": "80f73134-f263-45c3-c6c7-4a870b2a2865"
      },
      "execution_count": null,
      "outputs": [
        {
          "output_type": "stream",
          "name": "stdout",
          "text": [
            "[256]\n"
          ]
        }
      ]
    },
    {
      "cell_type": "code",
      "source": [
        "def func(lst):\n",
        "  for i in range(len(lst)):\n",
        "    lst[i] *= lst[i]\n",
        "  return lst\n",
        "\n",
        "lst = [3]\n",
        "func(lst)\n",
        "print(func(lst))"
      ],
      "metadata": {
        "colab": {
          "base_uri": "https://localhost:8080/"
        },
        "outputId": "fbbff7e4-b546-425c-9461-61628c275a1a",
        "id": "AvrOznOSvGu9"
      },
      "execution_count": null,
      "outputs": [
        {
          "output_type": "stream",
          "name": "stdout",
          "text": [
            "[81]\n"
          ]
        }
      ]
    },
    {
      "cell_type": "code",
      "source": [
        "some_string='Python'\n",
        "some_dict={}\n",
        "for i, some_dict[i] in enumerate(some_string):\n",
        "  i=10\n",
        "print(some_dict)"
      ],
      "metadata": {
        "colab": {
          "base_uri": "https://localhost:8080/"
        },
        "id": "L63ShA335TcP",
        "outputId": "d2db9669-23b2-4bf3-e6c6-9d38061186f5"
      },
      "execution_count": null,
      "outputs": [
        {
          "output_type": "stream",
          "name": "stdout",
          "text": [
            "{0: 'P', 1: 'y', 2: 't', 3: 'h', 4: 'o', 5: 'n'}\n"
          ]
        }
      ]
    },
    {
      "cell_type": "code",
      "source": [
        "mixed_values=\"learn python\", {2}, 4\n",
        "print(type(mixed_values))"
      ],
      "metadata": {
        "colab": {
          "base_uri": "https://localhost:8080/"
        },
        "id": "qAkA5TgYLTU4",
        "outputId": "ab7bf588-caf9-4463-c474-76d2f6460eb7"
      },
      "execution_count": null,
      "outputs": [
        {
          "output_type": "stream",
          "name": "stdout",
          "text": [
            "<class 'tuple'>\n"
          ]
        }
      ]
    },
    {
      "cell_type": "code",
      "source": [
        "\n",
        "(x := [1, 2, 3]).extend(x)\n",
        "print(x)"
      ],
      "metadata": {
        "colab": {
          "base_uri": "https://localhost:8080/"
        },
        "id": "DycIqml5FI-S",
        "outputId": "02f8de0c-315e-4bfb-9845-ab0908aa896e"
      },
      "execution_count": null,
      "outputs": [
        {
          "output_type": "stream",
          "name": "stdout",
          "text": [
            "[1, 2, 3, 1, 2, 3]\n"
          ]
        }
      ]
    },
    {
      "cell_type": "code",
      "source": [
        "const Array = [2, 6, 6, 3, 2, 8, 2]\n",
        "const newArray = newSet Array"
      ],
      "metadata": {
        "id": "HFpBK1l1IORN"
      },
      "execution_count": null,
      "outputs": []
    },
    {
      "cell_type": "code",
      "source": [
        "print({key:value for key, value in enumerate(\"abcde\")})"
      ],
      "metadata": {
        "colab": {
          "base_uri": "https://localhost:8080/"
        },
        "id": "VZxAacLTWk96",
        "outputId": "36a9fdd5-b5a1-4c92-8cf1-1b6bf6e9c18c"
      },
      "execution_count": null,
      "outputs": [
        {
          "output_type": "stream",
          "name": "stdout",
          "text": [
            "{0: 'a', 1: 'b', 2: 'c', 3: 'd', 4: 'e'}\n"
          ]
        }
      ]
    },
    {
      "cell_type": "code",
      "source": [
        "with open(\"foo.txt\", \"w\") as f:\n",
        "  f.write('Hello from Python!')"
      ],
      "metadata": {
        "id": "syjYHu9wSUIQ"
      },
      "execution_count": null,
      "outputs": []
    },
    {
      "cell_type": "code",
      "source": [
        "hash(float('inf'))\n",
        "314159\n",
        "hash(float('nan'))\n",
        "0"
      ],
      "metadata": {
        "colab": {
          "base_uri": "https://localhost:8080/"
        },
        "id": "Ppbj6RtD_PEs",
        "outputId": "9ea372af-65c5-4dac-a8ce-8dff37cfd55f"
      },
      "execution_count": null,
      "outputs": [
        {
          "output_type": "execute_result",
          "data": {
            "text/plain": [
              "0"
            ]
          },
          "metadata": {},
          "execution_count": 1
        }
      ]
    },
    {
      "cell_type": "code",
      "source": [
        "def func_list():\n",
        "  arr = [x for x in range(1, 6, 2)]\n",
        "  arr1 = arr\n",
        "  arr1.append(10)\n",
        "  return *arr,\n",
        "\n",
        "print(func_list())"
      ],
      "metadata": {
        "colab": {
          "base_uri": "https://localhost:8080/"
        },
        "id": "7BKD-ODj2vcH",
        "outputId": "d600862d-6ed7-48eb-e2d3-0ca9d9d729c8"
      },
      "execution_count": null,
      "outputs": [
        {
          "output_type": "stream",
          "name": "stdout",
          "text": [
            "(1, 3, 5, 10)\n"
          ]
        }
      ]
    },
    {
      "cell_type": "code",
      "source": [
        "arr = [[]]\n",
        "arr[0].append(2)\n",
        "\n",
        "print(arr)"
      ],
      "metadata": {
        "colab": {
          "base_uri": "https://localhost:8080/"
        },
        "id": "swPlVm5xym4Z",
        "outputId": "9653893d-3687-476f-ae5e-fa42a671c1d6"
      },
      "execution_count": null,
      "outputs": [
        {
          "output_type": "stream",
          "name": "stdout",
          "text": [
            "[[2]]\n"
          ]
        }
      ]
    },
    {
      "cell_type": "code",
      "source": [
        "number = 10\n",
        "def f():\n",
        "  number = 20\n",
        "\n",
        "f()\n",
        "print(number)"
      ],
      "metadata": {
        "colab": {
          "base_uri": "https://localhost:8080/"
        },
        "id": "E7tI3DWdqzkv",
        "outputId": "077188c8-8418-4b79-f115-a9ab2443bf84"
      },
      "execution_count": null,
      "outputs": [
        {
          "output_type": "stream",
          "name": "stdout",
          "text": [
            "10\n"
          ]
        }
      ]
    }
  ]
}