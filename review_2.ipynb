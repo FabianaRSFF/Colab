{
  "nbformat": 4,
  "nbformat_minor": 0,
  "metadata": {
    "colab": {
      "name": "review_2.ipynb",
      "provenance": [],
      "collapsed_sections": [],
      "authorship_tag": "ABX9TyMny4mIjiK0Bs4iZ/6jzCY6",
      "include_colab_link": true
    },
    "kernelspec": {
      "name": "python3",
      "display_name": "Python 3"
    },
    "language_info": {
      "name": "python"
    }
  },
  "cells": [
    {
      "cell_type": "markdown",
      "metadata": {
        "id": "view-in-github",
        "colab_type": "text"
      },
      "source": [
        "<a href=\"https://colab.research.google.com/github/FabianaRSFF/Colab/blob/main/review_2.ipynb\" target=\"_parent\"><img src=\"https://colab.research.google.com/assets/colab-badge.svg\" alt=\"Open In Colab\"/></a>"
      ]
    },
    {
      "cell_type": "markdown",
      "source": [
        "https://www.freecodecamp.org/learn/scientific-computing-with-python\n",
        "\n",
        "https://www.freecodecamp.org/learn\n"
      ],
      "metadata": {
        "id": "Ix7FUkLocYw3"
      }
    },
    {
      "cell_type": "code",
      "execution_count": null,
      "metadata": {
        "colab": {
          "base_uri": "https://localhost:8080/"
        },
        "id": "kHQwuPwCE2H8",
        "outputId": "7f9f0cf9-d9d8-4fa5-e2ed-943f3663d5ef"
      },
      "outputs": [
        {
          "output_type": "stream",
          "name": "stdout",
          "text": [
            "Before False\n",
            "True 3\n",
            "After True\n"
          ]
        }
      ],
      "source": [
        "found = False\n",
        "print(\"Before\", found)\n",
        "for value in [4, 41, 21, 3, 45, 8]:\n",
        "  if value == 3:\n",
        "    found = True\n",
        "    print(found, value)\n",
        "print(\"After\", found)"
      ]
    },
    {
      "cell_type": "code",
      "source": [
        "largest_so_far = -1\n",
        "print(\"Before\", largest_so_far)\n",
        "for the_num in [4, 41, 21, 3, 45, 8]:\n",
        "  if the_num > largest_so_far:\n",
        "    largest_so_far = the_num\n",
        "    print(largest_so_far, the_num)\n",
        "\n",
        "print(\"After\", largest_so_far)"
      ],
      "metadata": {
        "colab": {
          "base_uri": "https://localhost:8080/"
        },
        "id": "dVhdt6e9GjUv",
        "outputId": "7596607a-593d-4a22-bc94-740164215c31"
      },
      "execution_count": null,
      "outputs": [
        {
          "output_type": "stream",
          "name": "stdout",
          "text": [
            "Before -1\n",
            "4 4\n",
            "41 41\n",
            "45 45\n",
            "After 45\n"
          ]
        }
      ]
    },
    {
      "cell_type": "code",
      "source": [
        "smallest_so_far = 100\n",
        "print(\"Before\", smallest_so_far)\n",
        "for the_num in [4, 41, 21, 3, 45, 8]:\n",
        "  if the_num < smallest_so_far:\n",
        "    smallest_so_far = the_num\n",
        "    print(smallest_so_far, the_num)\n",
        "\n",
        "print(\"After\", largest_so_far)"
      ],
      "metadata": {
        "colab": {
          "base_uri": "https://localhost:8080/"
        },
        "id": "zNmxJG5cILTQ",
        "outputId": "b8639397-555c-4d0e-f23d-ebb76fdd6d9c"
      },
      "execution_count": null,
      "outputs": [
        {
          "output_type": "stream",
          "name": "stdout",
          "text": [
            "Before 100\n",
            "4 4\n",
            "3 3\n",
            "After 45\n"
          ]
        }
      ]
    },
    {
      "cell_type": "code",
      "source": [
        "smallest = None\n",
        "print(\"Before\")\n",
        "for value in [4, 41, 21, 3, 45, 8]:\n",
        "  if smallest is None:\n",
        "    smallest = value\n",
        "  elif value < smallest:\n",
        "    smallest = value\n",
        "    print(smallest, value)\n",
        "print(\"After\", smallest)"
      ],
      "metadata": {
        "colab": {
          "base_uri": "https://localhost:8080/"
        },
        "id": "68gREFPnJZxq",
        "outputId": "16843bb7-594b-4b10-d4f0-dded30421955"
      },
      "execution_count": null,
      "outputs": [
        {
          "output_type": "stream",
          "name": "stdout",
          "text": [
            "Before\n",
            "3 3\n",
            "After 3\n"
          ]
        }
      ]
    },
    {
      "cell_type": "code",
      "source": [
        "word = \"bananana\"\n",
        "i = word.find(\"na\")\n",
        "print(i)"
      ],
      "metadata": {
        "colab": {
          "base_uri": "https://localhost:8080/"
        },
        "id": "3z_hPdYDUOL4",
        "outputId": "6879e95d-2679-4530-d833-0cee3f137014"
      },
      "execution_count": null,
      "outputs": [
        {
          "output_type": "stream",
          "name": "stdout",
          "text": [
            "2\n"
          ]
        }
      ]
    },
    {
      "cell_type": "markdown",
      "source": [
        ""
      ],
      "metadata": {
        "id": "T614FwoRcXTk"
      }
    },
    {
      "cell_type": "code",
      "source": [
        "word = \"banana\"\n",
        "count = 0\n",
        "for letter in word:\n",
        "  if letter == \"a\":\n",
        "    count = count + 1\n",
        "print(count)\n",
        "\n"
      ],
      "metadata": {
        "colab": {
          "base_uri": "https://localhost:8080/"
        },
        "id": "UZgZ7js_NkZz",
        "outputId": "57e359f2-62be-4cae-a88c-e2570e2b010a"
      },
      "execution_count": null,
      "outputs": [
        {
          "output_type": "stream",
          "name": "stdout",
          "text": [
            "3\n"
          ]
        }
      ]
    },
    {
      "cell_type": "code",
      "source": [
        "friends = [\"Glenn\", \"Sally\", \"Joseph\"]\n",
        "for friend in friends:\n",
        "  print(\"Hello\", friend)\n",
        "\n",
        "print(\"Done\")"
      ],
      "metadata": {
        "colab": {
          "base_uri": "https://localhost:8080/"
        },
        "id": "WUZHIOZfAUS6",
        "outputId": "5696a631-cd08-4f18-a453-a6de4c458179"
      },
      "execution_count": null,
      "outputs": [
        {
          "output_type": "stream",
          "name": "stdout",
          "text": [
            "Hello Glenn\n",
            "Hello Sally\n",
            "Hello Joseph\n",
            "Done\n"
          ]
        }
      ]
    },
    {
      "cell_type": "code",
      "source": [
        "list = (2, 4, 6, 8 )\n",
        "9 in list\n",
        "2 in list\n"
      ],
      "metadata": {
        "colab": {
          "base_uri": "https://localhost:8080/"
        },
        "id": "JNzeNnLJDi59",
        "outputId": "38d21be9-172f-48e9-bfde-5ef4c55a97fe"
      },
      "execution_count": null,
      "outputs": [
        {
          "output_type": "execute_result",
          "data": {
            "text/plain": [
              "True"
            ]
          },
          "metadata": {},
          "execution_count": 6
        }
      ]
    },
    {
      "cell_type": "code",
      "source": [
        "list = (2, 42, 60, 18, 32, 99, 81 )\n",
        "print(len(list))\n",
        "print(max(list))\n",
        "print(min(list))\n",
        "print(sum(list))\n",
        "print(sum(list)/ len(list))\n"
      ],
      "metadata": {
        "colab": {
          "base_uri": "https://localhost:8080/"
        },
        "id": "-UFhuZH6EMBF",
        "outputId": "837162fd-0d40-481d-9023-a3bd20f73e77"
      },
      "execution_count": null,
      "outputs": [
        {
          "output_type": "stream",
          "name": "stdout",
          "text": [
            "7\n",
            "99\n",
            "2\n",
            "334\n",
            "47.714285714285715\n"
          ]
        }
      ]
    },
    {
      "cell_type": "code",
      "source": [
        "numlist = []\n",
        "while True:\n",
        "  inp = input(\"Enter a number: \")\n",
        "  if inp == 'done': break\n",
        "  value = float(inp)\n",
        "  numlist.append(value)\n",
        "\n",
        "average = sum(numlist)/ len(numlist)\n",
        "print(\"Average: \", average)"
      ],
      "metadata": {
        "colab": {
          "base_uri": "https://localhost:8080/"
        },
        "id": "QlDDtuHBMdHh",
        "outputId": "2d7db756-312e-4d4a-b0cf-021ea545a41f"
      },
      "execution_count": null,
      "outputs": [
        {
          "output_type": "stream",
          "name": "stdout",
          "text": [
            "Enter a number: 2\n",
            "Enter a number: 3\n",
            "Enter a number: 4\n",
            "Enter a number: 5\n",
            "Enter a number: 6\n",
            "Enter a number: done\n",
            "Average:  4.0\n"
          ]
        }
      ]
    },
    {
      "cell_type": "code",
      "source": [
        "total = 0\n",
        "count = 0\n",
        "while True:\n",
        "  inp = input(\"Enter a number: \")\n",
        "  if inp == 'done': break\n",
        "  value = float(inp)\n",
        "  total = total + value\n",
        "  count = count + 1\n",
        "  \n",
        "\n",
        "average = total / count\n",
        "print(\"Average: \", average)\n"
      ],
      "metadata": {
        "colab": {
          "base_uri": "https://localhost:8080/"
        },
        "id": "1jE4wfn3PhQq",
        "outputId": "70750ba9-d6d0-44d6-e706-ba9641bba9cc"
      },
      "execution_count": null,
      "outputs": [
        {
          "output_type": "stream",
          "name": "stdout",
          "text": [
            "Enter a number: 5\n",
            "Enter a number: 8\n",
            "Enter a number: 2\n",
            "Enter a number: 8\n",
            "Enter a number: done\n",
            "Average:  5.75\n"
          ]
        }
      ]
    },
    {
      "cell_type": "code",
      "source": [
        "purse = dict()\n",
        "purse[\"money\"] = 20\n",
        "purse[\"mobile\"] = 1\n",
        "purse[\"document\"] = 3\n",
        "purse[\"candy\"] = 4\n",
        "print(purse)\n",
        "purse[\"candy\"] = purse[\"candy\"] + 2\n",
        "print(purse[\"candy\"])"
      ],
      "metadata": {
        "colab": {
          "base_uri": "https://localhost:8080/"
        },
        "id": "TC9hlLiAV4Wa",
        "outputId": "bc5eeb7a-87e1-4abb-d080-ecbb8893f9b1"
      },
      "execution_count": null,
      "outputs": [
        {
          "output_type": "stream",
          "name": "stdout",
          "text": [
            "{'money': 20, 'mobile': 1, 'document': 3, 'candy': 4}\n",
            "6\n"
          ]
        }
      ]
    },
    {
      "cell_type": "code",
      "source": [
        "counts = { 'quincy' : 1 , 'mrugesh' : 42, 'beau': 100, '0': 10}\n",
        "print(counts.get('kris', 0))"
      ],
      "metadata": {
        "colab": {
          "base_uri": "https://localhost:8080/"
        },
        "id": "jdwaL-aSaT4N",
        "outputId": "79539756-abca-43de-c3a3-a4a4d597d482"
      },
      "execution_count": null,
      "outputs": [
        {
          "output_type": "stream",
          "name": "stdout",
          "text": [
            "0\n"
          ]
        }
      ]
    },
    {
      "cell_type": "code",
      "source": [
        "counts2 = dict()\n",
        "print(\"Enter a line of text: \")\n",
        "line = input('')\n",
        "words = line.split()\n",
        "print(\"Words: \", words)\n",
        "print(\"Counting... \")\n",
        "for word in words:\n",
        "  counts2[word] = counts2.get(word, 0) + 1\n",
        "print(\"Counts: \", counts2)"
      ],
      "metadata": {
        "colab": {
          "base_uri": "https://localhost:8080/"
        },
        "id": "3FdYlAyabK21",
        "outputId": "c17e1f23-7044-4946-cf87-9a63972be5fd"
      },
      "execution_count": null,
      "outputs": [
        {
          "output_type": "stream",
          "name": "stdout",
          "text": [
            "Enter a line of text: \n",
            "Rodrigo is the best and the rest is the rest.\n",
            "Words:  ['Rodrigo', 'is', 'the', 'best', 'and', 'the', 'rest', 'is', 'the', 'rest.']\n",
            "Counting... \n",
            "Counts:  {'Rodrigo': 1, 'is': 2, 'the': 3, 'best': 1, 'and': 1, 'rest': 1, 'rest.': 1}\n"
          ]
        }
      ]
    }
  ]
}