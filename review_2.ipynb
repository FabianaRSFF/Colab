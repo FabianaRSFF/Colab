{
  "nbformat": 4,
  "nbformat_minor": 0,
  "metadata": {
    "colab": {
      "name": "review_2.ipynb",
      "provenance": [],
      "collapsed_sections": [],
      "authorship_tag": "ABX9TyPdHW1Yv1v8I5GACOfiVB1E",
      "include_colab_link": true
    },
    "kernelspec": {
      "name": "python3",
      "display_name": "Python 3"
    },
    "language_info": {
      "name": "python"
    }
  },
  "cells": [
    {
      "cell_type": "markdown",
      "metadata": {
        "id": "view-in-github",
        "colab_type": "text"
      },
      "source": [
        "<a href=\"https://colab.research.google.com/github/FabianaRSFF/Colab/blob/main/review_2.ipynb\" target=\"_parent\"><img src=\"https://colab.research.google.com/assets/colab-badge.svg\" alt=\"Open In Colab\"/></a>"
      ]
    },
    {
      "cell_type": "markdown",
      "source": [
        "https://www.freecodecamp.org/learn/scientific-computing-with-python\n",
        "\n",
        "https://www.freecodecamp.org/learn\n"
      ],
      "metadata": {
        "id": "Ix7FUkLocYw3"
      }
    },
    {
      "cell_type": "code",
      "execution_count": null,
      "metadata": {
        "colab": {
          "base_uri": "https://localhost:8080/"
        },
        "id": "kHQwuPwCE2H8",
        "outputId": "7f9f0cf9-d9d8-4fa5-e2ed-943f3663d5ef"
      },
      "outputs": [
        {
          "output_type": "stream",
          "name": "stdout",
          "text": [
            "Before False\n",
            "True 3\n",
            "After True\n"
          ]
        }
      ],
      "source": [
        "found = False\n",
        "print(\"Before\", found)\n",
        "for value in [4, 41, 21, 3, 45, 8]:\n",
        "  if value == 3:\n",
        "    found = True\n",
        "    print(found, value)\n",
        "print(\"After\", found)"
      ]
    },
    {
      "cell_type": "code",
      "source": [
        "largest_so_far = -1\n",
        "print(\"Before\", largest_so_far)\n",
        "for the_num in [4, 41, 21, 3, 45, 8]:\n",
        "  if the_num > largest_so_far:\n",
        "    largest_so_far = the_num\n",
        "    print(largest_so_far, the_num)\n",
        "\n",
        "print(\"After\", largest_so_far)"
      ],
      "metadata": {
        "colab": {
          "base_uri": "https://localhost:8080/"
        },
        "id": "dVhdt6e9GjUv",
        "outputId": "7596607a-593d-4a22-bc94-740164215c31"
      },
      "execution_count": null,
      "outputs": [
        {
          "output_type": "stream",
          "name": "stdout",
          "text": [
            "Before -1\n",
            "4 4\n",
            "41 41\n",
            "45 45\n",
            "After 45\n"
          ]
        }
      ]
    },
    {
      "cell_type": "code",
      "source": [
        "smallest_so_far = 100\n",
        "print(\"Before\", smallest_so_far)\n",
        "for the_num in [4, 41, 21, 3, 45, 8]:\n",
        "  if the_num < smallest_so_far:\n",
        "    smallest_so_far = the_num\n",
        "    print(smallest_so_far, the_num)\n",
        "\n",
        "print(\"After\", largest_so_far)"
      ],
      "metadata": {
        "colab": {
          "base_uri": "https://localhost:8080/"
        },
        "id": "zNmxJG5cILTQ",
        "outputId": "b8639397-555c-4d0e-f23d-ebb76fdd6d9c"
      },
      "execution_count": null,
      "outputs": [
        {
          "output_type": "stream",
          "name": "stdout",
          "text": [
            "Before 100\n",
            "4 4\n",
            "3 3\n",
            "After 45\n"
          ]
        }
      ]
    },
    {
      "cell_type": "code",
      "source": [
        "smallest = None\n",
        "print(\"Before\")\n",
        "for value in [4, 41, 21, 3, 45, 8]:\n",
        "  if smallest is None:\n",
        "    smallest = value\n",
        "  elif value < smallest:\n",
        "    smallest = value\n",
        "    print(smallest, value)\n",
        "print(\"After\", smallest)"
      ],
      "metadata": {
        "colab": {
          "base_uri": "https://localhost:8080/"
        },
        "id": "68gREFPnJZxq",
        "outputId": "16843bb7-594b-4b10-d4f0-dded30421955"
      },
      "execution_count": null,
      "outputs": [
        {
          "output_type": "stream",
          "name": "stdout",
          "text": [
            "Before\n",
            "3 3\n",
            "After 3\n"
          ]
        }
      ]
    },
    {
      "cell_type": "code",
      "source": [
        "word = \"bananana\"\n",
        "i = word.find(\"na\")\n",
        "print(i)"
      ],
      "metadata": {
        "colab": {
          "base_uri": "https://localhost:8080/"
        },
        "id": "3z_hPdYDUOL4",
        "outputId": "6879e95d-2679-4530-d833-0cee3f137014"
      },
      "execution_count": 3,
      "outputs": [
        {
          "output_type": "stream",
          "name": "stdout",
          "text": [
            "2\n"
          ]
        }
      ]
    },
    {
      "cell_type": "markdown",
      "source": [
        ""
      ],
      "metadata": {
        "id": "T614FwoRcXTk"
      }
    },
    {
      "cell_type": "code",
      "source": [
        "word = \"banana\"\n",
        "count = 0\n",
        "for letter in word:\n",
        "  if letter == \"a\":\n",
        "    count = count + 1\n",
        "print(count)\n",
        "\n"
      ],
      "metadata": {
        "colab": {
          "base_uri": "https://localhost:8080/"
        },
        "id": "UZgZ7js_NkZz",
        "outputId": "57e359f2-62be-4cae-a88c-e2570e2b010a"
      },
      "execution_count": null,
      "outputs": [
        {
          "output_type": "stream",
          "name": "stdout",
          "text": [
            "3\n"
          ]
        }
      ]
    }
  ]
}