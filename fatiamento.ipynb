{
  "nbformat": 4,
  "nbformat_minor": 0,
  "metadata": {
    "colab": {
      "name": "fatiamento.ipynb",
      "provenance": [],
      "authorship_tag": "ABX9TyMHORkZq+NCMouUSOo/xz2y",
      "include_colab_link": true
    },
    "kernelspec": {
      "name": "python3",
      "display_name": "Python 3"
    },
    "language_info": {
      "name": "python"
    }
  },
  "cells": [
    {
      "cell_type": "markdown",
      "metadata": {
        "id": "view-in-github",
        "colab_type": "text"
      },
      "source": [
        "<a href=\"https://colab.research.google.com/github/FabianaRSFF/Colab/blob/main/fatiamento.ipynb\" target=\"_parent\"><img src=\"https://colab.research.google.com/assets/colab-badge.svg\" alt=\"Open In Colab\"/></a>"
      ]
    },
    {
      "cell_type": "code",
      "execution_count": 1,
      "metadata": {
        "colab": {
          "base_uri": "https://localhost:8080/"
        },
        "id": "XNNvq38tR6jk",
        "outputId": "d523feb7-447b-453a-d466-8550e014e6cc"
      },
      "outputs": [
        {
          "output_type": "stream",
          "name": "stdout",
          "text": [
            "Universi\n"
          ]
        }
      ],
      "source": [
        "palavra = 'Universidade'\n",
        "\n",
        "palavra_fatiada = palavra[0:8]\n",
        "print(palavra_fatiada)"
      ]
    },
    {
      "cell_type": "code",
      "source": [
        "palavra_fatiada2 = palavra[7:12]\n",
        "print(palavra_fatiada2)\n",
        "print(palavra_fatiada2[-1]) # Acessando o último índice\n",
        "palavra_fatiada = palavra[-1]\n",
        "print(palavra_fatiada)"
      ],
      "metadata": {
        "colab": {
          "base_uri": "https://localhost:8080/"
        },
        "id": "xCBhyA8cSjv2",
        "outputId": "6d9aaf89-fabd-4617-c7f3-799c4b8c7503"
      },
      "execution_count": 8,
      "outputs": [
        {
          "output_type": "stream",
          "name": "stdout",
          "text": [
            "idade\n",
            "e\n",
            "e\n"
          ]
        }
      ]
    },
    {
      "cell_type": "code",
      "source": [
        "nome = 'Python'\n",
        "novo_nome = nome[:-1]  # Elimanando o último índice.\n",
        "print(novo_nome)"
      ],
      "metadata": {
        "colab": {
          "base_uri": "https://localhost:8080/"
        },
        "id": "3UjScrZGVGwv",
        "outputId": "c7cea431-0258-45de-8303-0a853ab6ec7b"
      },
      "execution_count": 10,
      "outputs": [
        {
          "output_type": "stream",
          "name": "stdout",
          "text": [
            "Pytho\n"
          ]
        }
      ]
    },
    {
      "cell_type": "code",
      "source": [
        "palavra_grande = 'paralelepípedo'\n",
        "print(len(palavra_grande))"
      ],
      "metadata": {
        "colab": {
          "base_uri": "https://localhost:8080/"
        },
        "id": "v5_5ZSBtWpl7",
        "outputId": "e80689cd-91cb-4890-93d5-092d3fed1bd0"
      },
      "execution_count": 11,
      "outputs": [
        {
          "output_type": "stream",
          "name": "stdout",
          "text": [
            "14\n"
          ]
        }
      ]
    }
  ]
}