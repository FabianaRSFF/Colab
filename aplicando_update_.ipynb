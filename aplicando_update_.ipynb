{
  "nbformat": 4,
  "nbformat_minor": 0,
  "metadata": {
    "colab": {
      "provenance": [],
      "authorship_tag": "ABX9TyOeuz/iWjM4qfehgQ2CnTE9",
      "include_colab_link": true
    },
    "kernelspec": {
      "name": "python3",
      "display_name": "Python 3"
    },
    "language_info": {
      "name": "python"
    }
  },
  "cells": [
    {
      "cell_type": "markdown",
      "metadata": {
        "id": "view-in-github",
        "colab_type": "text"
      },
      "source": [
        "<a href=\"https://colab.research.google.com/github/FabianaRSFF/Colab/blob/main/aplicando_update_.ipynb\" target=\"_parent\"><img src=\"https://colab.research.google.com/assets/colab-badge.svg\" alt=\"Open In Colab\"/></a>"
      ]
    },
    {
      "cell_type": "code",
      "execution_count": 9,
      "metadata": {
        "colab": {
          "base_uri": "https://localhost:8080/"
        },
        "id": "xYaHfRnrxiBh",
        "outputId": "db500d14-649a-4835-cb80-d93bcc654135"
      },
      "outputs": [
        {
          "output_type": "stream",
          "name": "stdout",
          "text": [
            "[1, -2, -3, -4]\n"
          ]
        }
      ],
      "source": [
        "def apply_updates(initial_data, updates):\n",
        "  n = len(initial_data)\n",
        "  result = [0] * (n + 1)\n",
        "\n",
        "  for l, r in updates:\n",
        "    result[l - 1] += 1\n",
        "    result[r] -= 1\n",
        "\n",
        "\n",
        "  final_data = [0] * n\n",
        "  final_data[0] = result[0]\n",
        "\n",
        "  for i in range(1, n):\n",
        "    final_data[i] = final_data[i -1] + result[i]\n",
        "\n",
        "\n",
        "  for i in range(n):\n",
        "    if final_data[i] % 2 == 1:\n",
        "      initial_data[i] *= -1\n",
        "\n",
        "\n",
        "  return initial_data\n",
        "\n",
        "initial_data = [1, 2, 3, 4]\n",
        "updates = [[2, 4]]\n",
        "final_data = apply_updates(initial_data, updates)\n",
        "print(final_data)\n"
      ]
    },
    {
      "cell_type": "code",
      "source": [
        "def apply_updates2(initial_data, updates):\n",
        "    n = len(initial_data)\n",
        "    result = [0] * n\n",
        "\n",
        "    for update in updates:\n",
        "        l, r = update\n",
        "        # Negate the subarray from index l to r\n",
        "        for i in range(l - 1, r):\n",
        "            initial_data[i] *= -1\n",
        "\n",
        "        for i in range(n):\n",
        "          result[i] = initial_data[i]\n",
        "\n",
        "    return result\n",
        "\n",
        "initial_data = [1, 2, 3, 4]\n",
        "updates = [[2, 4]]\n",
        "final_data = apply_updates(initial_data, updates)\n",
        "print(final_data)"
      ],
      "metadata": {
        "colab": {
          "base_uri": "https://localhost:8080/"
        },
        "id": "LjQqPYtc08gN",
        "outputId": "22efe16c-4732-4963-9fa7-b7b72038e8ff"
      },
      "execution_count": 10,
      "outputs": [
        {
          "output_type": "stream",
          "name": "stdout",
          "text": [
            "[1, -2, -3, -4]\n"
          ]
        }
      ]
    }
  ]
}