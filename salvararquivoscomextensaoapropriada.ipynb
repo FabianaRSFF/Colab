{
  "nbformat": 4,
  "nbformat_minor": 0,
  "metadata": {
    "colab": {
      "provenance": [],
      "authorship_tag": "ABX9TyPxO30kDp7M4HcMkUv5bXt/",
      "include_colab_link": true
    },
    "kernelspec": {
      "name": "python3",
      "display_name": "Python 3"
    },
    "language_info": {
      "name": "python"
    }
  },
  "cells": [
    {
      "cell_type": "markdown",
      "metadata": {
        "id": "view-in-github",
        "colab_type": "text"
      },
      "source": [
        "<a href=\"https://colab.research.google.com/github/FabianaRSFF/Colab/blob/main/salvararquivoscomextensaoapropriada.ipynb\" target=\"_parent\"><img src=\"https://colab.research.google.com/assets/colab-badge.svg\" alt=\"Open In Colab\"/></a>"
      ]
    },
    {
      "cell_type": "code",
      "execution_count": null,
      "metadata": {
        "id": "ENG1yT4ZC6Bb"
      },
      "outputs": [],
      "source": [
        "base_filename = input(\"Enter the base filename: \")\n",
        "\n",
        "def process_source_files(base_filename):\n",
        "    c_files = []    # List to store C file names\n",
        "    cpp_files = []  # List to store C++ file names\n",
        "    cs_files = []   # List to store C# file names\n",
        "\n",
        "    with open(base_filename, 'r') as file:\n",
        "        for line in file:\n",
        "            filename = line.strip()  # Remove leading/trailing whitespace\n",
        "\n",
        "            if filename.endswith(\".c\"):\n",
        "              c_files.append(filename)\n",
        "            if filename.endswith(\".cpp\"):\n",
        "              cpp_files.append(filename)\n",
        "            if filename.endswith(\".cs\"):\n",
        "              cs_files.append(filename)\n",
        "\n",
        "    with open(f\"c_{base_filename}\", \"w\") as c_output_filename:\n",
        "      c_output_filename.write(\"\\n\".join(c_files))\n",
        "    with open(f\"cs_{base_filename}\", \"w\") as cs_output_filename:\n",
        "      cs_output_filename.write(\"\\n\".join(cs_files))\n",
        "    with open(f\"cpp_{base_filename}\", \"w\") as cpp_output_filename:\n",
        "      cpp_output_filename.write(\"\\n\".join(cpp_files))\n",
        "\n",
        "\n",
        "process_source_files(base_filename)\n",
        "\n",
        "\n",
        "\n",
        "\n"
      ]
    }
  ]
}