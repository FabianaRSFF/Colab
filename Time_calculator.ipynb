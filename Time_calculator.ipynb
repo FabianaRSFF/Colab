{
  "nbformat": 4,
  "nbformat_minor": 0,
  "metadata": {
    "colab": {
      "name": "Time_calculator.ipynb",
      "provenance": [],
      "authorship_tag": "ABX9TyMi86dAyjq8Dq8lCcPlwVBx",
      "include_colab_link": true
    },
    "kernelspec": {
      "name": "python3",
      "display_name": "Python 3"
    },
    "language_info": {
      "name": "python"
    }
  },
  "cells": [
    {
      "cell_type": "markdown",
      "metadata": {
        "id": "view-in-github",
        "colab_type": "text"
      },
      "source": [
        "<a href=\"https://colab.research.google.com/github/FabianaRSFF/Colab/blob/main/Time_calculator.ipynb\" target=\"_parent\"><img src=\"https://colab.research.google.com/assets/colab-badge.svg\" alt=\"Open In Colab\"/></a>"
      ]
    },
    {
      "cell_type": "markdown",
      "source": [
        "Time_calculator:\n",
        "# I coudn't do the \"AM\" and the \"PM\", but the math is alright!\n"
      ],
      "metadata": {
        "id": "Pfte8WidTpW8"
      }
    },
    {
      "cell_type": "code",
      "source": [
        "def add_time(time_now, time_plus) -> int:\n",
        "    if time_now and time_plus < 0:\n",
        "        return \"Error: Too Many Problems\"\n",
        "    if time_plus >= 12:\n",
        "        return (time_plus - 12) + time_now\n",
        "\n",
        "    if time_plus < 12.0 and (time_plus + time_now > 12):\n",
        "        return (time_plus + time_now) - 12\n",
        "    else:\n",
        "        return time_plus + time_now\n",
        "\n",
        "\n",
        "time = add_time(2.0, 12.0)\n",
        "print(f\"It's {str(time)} o'clock now!\")"
      ],
      "metadata": {
        "colab": {
          "base_uri": "https://localhost:8080/"
        },
        "id": "EN2WTJ0sTve5",
        "outputId": "2a4c4e6d-8c18-4acc-fb1f-e45b9e45f1dd"
      },
      "execution_count": 2,
      "outputs": [
        {
          "output_type": "stream",
          "name": "stdout",
          "text": [
            "It's 2.0 o'clock now!\n"
          ]
        }
      ]
    }
  ]
}