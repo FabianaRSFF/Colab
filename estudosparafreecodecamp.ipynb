{
  "nbformat": 4,
  "nbformat_minor": 0,
  "metadata": {
    "colab": {
      "provenance": [],
      "authorship_tag": "ABX9TyN6kEufUip2vLbb3PmeuAFI",
      "include_colab_link": true
    },
    "kernelspec": {
      "name": "python3",
      "display_name": "Python 3"
    },
    "language_info": {
      "name": "python"
    }
  },
  "cells": [
    {
      "cell_type": "markdown",
      "metadata": {
        "id": "view-in-github",
        "colab_type": "text"
      },
      "source": [
        "<a href=\"https://colab.research.google.com/github/FabianaRSFF/Colab/blob/main/estudosparafreecodecamp.ipynb\" target=\"_parent\"><img src=\"https://colab.research.google.com/assets/colab-badge.svg\" alt=\"Open In Colab\"/></a>"
      ]
    },
    {
      "cell_type": "code",
      "execution_count": null,
      "metadata": {
        "colab": {
          "base_uri": "https://localhost:8080/"
        },
        "id": "w0GtPq5qkZbQ",
        "outputId": "39abed37-6fda-4e75-c134-3d0ea494a26c"
      },
      "outputs": [
        {
          "output_type": "stream",
          "name": "stdout",
          "text": [
            "yes\n"
          ]
        }
      ],
      "source": [
        "x = 0\n",
        "y = 10\n",
        "if 0 == x:\n",
        "  if y == 10:\n",
        "      print(\"yes\")"
      ]
    },
    {
      "cell_type": "code",
      "source": [
        "temp = \"5 degrees\"\n",
        "cel = 0\n",
        "\n",
        "try:\n",
        "  fahr = float(temp)\n",
        "  cel = (fahr - 32.0) * 5.0 / 9.0\n",
        "except:\n",
        "  print(cel)"
      ],
      "metadata": {
        "colab": {
          "base_uri": "https://localhost:8080/"
        },
        "id": "P_aDC9R4mFGB",
        "outputId": "de0cdb50-115d-4bf7-fecd-118d36b4df5a"
      },
      "execution_count": null,
      "outputs": [
        {
          "output_type": "stream",
          "name": "stdout",
          "text": [
            "0\n"
          ]
        }
      ]
    },
    {
      "cell_type": "code",
      "source": [
        "smallest = None\n",
        "print(\"Before\", smallest)\n",
        "for itervar in [3, 41, 12, 9, 74, 15]:\n",
        "  if smallest is None or itervar < smallest:\n",
        "    smallest = itervar\n",
        "    break\n",
        "  print(\"Loop\", itervar, smallest)\n",
        "print(\"Smallest\", smallest)"
      ],
      "metadata": {
        "colab": {
          "base_uri": "https://localhost:8080/"
        },
        "id": "XeKHMoKbEMP8",
        "outputId": "4896762c-72ad-441b-bed9-71a46660118c"
      },
      "execution_count": null,
      "outputs": [
        {
          "output_type": "stream",
          "name": "stdout",
          "text": [
            "Before None\n",
            "Smallest 3\n"
          ]
        }
      ]
    },
    {
      "cell_type": "code",
      "source": [
        "word = \"bananana\"\n",
        "i = word.find(\"na\")\n",
        "print(i)"
      ],
      "metadata": {
        "colab": {
          "base_uri": "https://localhost:8080/"
        },
        "id": "A4o8hQvzvxQY",
        "outputId": "13965b73-160a-488c-93e9-6ac26a06cc33"
      },
      "execution_count": null,
      "outputs": [
        {
          "output_type": "stream",
          "name": "stdout",
          "text": [
            "2\n"
          ]
        }
      ]
    },
    {
      "cell_type": "markdown",
      "source": [
        "a = ([\"32 + 698\", \"3801 - 2\", \"45 + 43\", \"123 + 49\"])"
      ],
      "metadata": {
        "id": "QJeI4frnyTbi"
      }
    },
    {
      "cell_type": "code",
      "source": [
        "problems = ([\"32 + 698\", \"3801 - 2\", \"45 + 43\", \"123 + 49\"])\n",
        "result = []\n",
        "for equation in problems:\n",
        "  print(eval(equation))\n",
        "\n"
      ],
      "metadata": {
        "colab": {
          "base_uri": "https://localhost:8080/"
        },
        "id": "Zg6B7uL3yUOo",
        "outputId": "2c39b223-4f78-4367-fc45-46a53173c6b3"
      },
      "execution_count": null,
      "outputs": [
        {
          "output_type": "stream",
          "name": "stdout",
          "text": [
            "730\n",
            "3799\n",
            "88\n",
            "172\n"
          ]
        }
      ]
    },
    {
      "cell_type": "code",
      "source": [],
      "metadata": {
        "id": "QwxSPo1p7BBp"
      },
      "execution_count": null,
      "outputs": []
    },
    {
      "cell_type": "code",
      "source": [
        "problems = ([\"32 + 698\", \"3801 - 2\", \"45 + 43\", \"123 + 49\"])\n",
        "results = []\n",
        "\n",
        "for equation in problems:\n",
        "  result = eval(equation)\n",
        "  formatted_equation = f'{equation}\\n {result}'\n",
        "  print(formatted_equation)\n",
        "formatted_results = \"\".join(results)\n",
        "print(formatted_results)"
      ],
      "metadata": {
        "colab": {
          "base_uri": "https://localhost:8080/"
        },
        "outputId": "909a4409-8557-4d5d-e3b3-523e71f99371",
        "id": "5kmeMgw0716X"
      },
      "execution_count": null,
      "outputs": [
        {
          "output_type": "stream",
          "name": "stdout",
          "text": [
            "32 + 698\n",
            " 730\n",
            "3801 - 2\n",
            " 3799\n",
            "45 + 43\n",
            " 88\n",
            "123 + 49\n",
            " 172\n",
            "\n"
          ]
        }
      ]
    },
    {
      "cell_type": "code",
      "source": [
        "equations = [\"32 + 698\", \"3801 - 2\", \"45 + 43\", \"123 + 49\"]\n",
        "results = []\n",
        "\n",
        "for equation in equations:\n",
        "    try:\n",
        "        result = eval(equation)\n",
        "        if isinstance(result, int):\n",
        "            formatted_equation = f\"{equation}\\n= {result}\\n\"\n",
        "            results.append(formatted_equation)\n",
        "        else:\n",
        "            formatted_equation = f\"{equation}\\n= Not an integer\\n\"\n",
        "            results.append(formatted_equation)\n",
        "    except SyntaxError:\n",
        "        formatted_equation = f\"{equation}\\n= Invalid syntax\\n\"\n",
        "        results.append(formatted_equation)\n",
        "\n",
        "formatted_results = \"\".join(results)\n",
        "print(formatted_results)\n",
        "individual_equations = formatted_results.strip().split('\\n\\n')\n",
        "for equation in individual_equations:\n",
        "    print(\"-----\")\n",
        "    print(equation)"
      ],
      "metadata": {
        "colab": {
          "base_uri": "https://localhost:8080/"
        },
        "id": "zBJlCPQGDq4W",
        "outputId": "c4e1b4f3-4f6d-4fb9-ad65-6785b6f0e02d"
      },
      "execution_count": null,
      "outputs": [
        {
          "output_type": "stream",
          "name": "stdout",
          "text": [
            "32 + 698\n",
            "= 730\n",
            "3801 - 2\n",
            "= 3799\n",
            "45 + 43\n",
            "= 88\n",
            "123 + 49\n",
            "= 172\n",
            "\n",
            "-----\n",
            "32 + 698\n",
            "= 730\n",
            "3801 - 2\n",
            "= 3799\n",
            "45 + 43\n",
            "= 88\n",
            "123 + 49\n",
            "= 172\n"
          ]
        }
      ]
    },
    {
      "cell_type": "code",
      "source": [
        "def arithmetic_arranger0(problems):\n",
        "  if len(problems) > 5:\n",
        "    return \"Too many problems\"\n",
        "\n",
        "    arrenged_problems = ''\n",
        "\n",
        "    for index, value in enumerate(problems):\n",
        "      operation = value.split(' ')\n",
        "      if operation[1] not in \"-+\":\n",
        "        return \"Error, operators need to be + or - \"\n",
        "\n",
        "      if len(operation[0]) > 4 or len(operation[2]) > 4:\n",
        "        return \"wrong, len operation > 4!\"\n",
        "\n",
        "      try:\n",
        "        value_1 = operation[0]\n",
        "        value_2 = operation[2]\n",
        "      except: \"Value Error, only digits please!\"\n",
        "\n",
        "      temp_problem = f\"\"\"\n",
        "      {value_1}\n",
        "      {operation[1]} {value_2}\n",
        "      -----\n",
        "      \"\"\"\n",
        "      arrenged_problems += temp_problem\n",
        "\n",
        "    return arrenged_problems\n",
        "\n"
      ],
      "metadata": {
        "id": "ZVWSXJ9cOIdw"
      },
      "execution_count": null,
      "outputs": []
    },
    {
      "cell_type": "code",
      "source": [
        "def arithmetic_arranger01(expression: 'list[str]', result: bool = False) -> str:\n",
        "    if len(expression) > 7:\n",
        "        return \"Error: Too Many Problems\"\n",
        "\n",
        "    li1 = []\n",
        "    li2 = []\n",
        "    li3 = []\n",
        "    li4 = []\n",
        "    for exp in expression:\n",
        "        exp = exp.replace(\" \", \"\")\n",
        "        if \"+\" in exp:\n",
        "            exp = exp.split(\"+\")\n",
        "            operator = \"+\"\n",
        "        elif \"-\" in exp:\n",
        "            exp = exp.split(\"-\")\n",
        "            operator = \"-\"\n",
        "        else:\n",
        "            return \"Error: Operator must be '+' or '-'\"\n",
        "\n",
        "        if (not exp[0].isdigit()) or (not exp[1].isdigit()):\n",
        "            return \"Error: Numbers must only contain digits\"\n",
        "        if len(exp[0]) > 6 or len(exp[1])> 6:\n",
        "            return \"Error: Numbers cannot be more than six digits\"\n",
        "\n",
        "        res = str(eval(exp[0] + operator + exp[1])) if result else ''\n",
        "\n",
        "        align = max([len(exp[0]), len(exp[1]), len(res)])\n",
        "\n",
        "        li1.append(\"  \" + exp[0].rjust(align))\n",
        "        li2.append(operator + \" \" + exp[1].rjust(align))\n",
        "        li3.append(\"-\" * (align + 2))\n",
        "        li4.append(\"  \" + res.rjust(align))\n",
        "\n",
        "    line1 = \"    \".join(li1)\n",
        "    line2 = \"    \".join(li2)\n",
        "    line3 = \"    \".join(li3)\n",
        "\n",
        "    arranged_string = \"\\n\".join([line1, line2, line3])\n",
        "\n",
        "    if result:\n",
        "        line4 = \"    \".join(li4)\n",
        "        arranged_string += \"\\n\" + line4\n",
        "\n",
        "    arranged_string += \"\\n\" + line3\n",
        "\n",
        "    return arranged_string\n",
        "\n",
        "\n",
        "\n",
        "# Test\n",
        "print(arithmetic_arranger([\"32 - 23\", \"1 - 3801\", \"9999 + 9999\", \"523 - 49\"]), True)"
      ],
      "metadata": {
        "colab": {
          "base_uri": "https://localhost:8080/"
        },
        "id": "qiINfeUoVT-c",
        "outputId": "d8757800-55ad-45d8-c53b-8ec115e83b27"
      },
      "execution_count": null,
      "outputs": [
        {
          "output_type": "stream",
          "name": "stdout",
          "text": [
            "None True\n"
          ]
        }
      ]
    },
    {
      "cell_type": "code",
      "source": [
        "import re\n",
        "\n",
        "def arithmetic_arranger1(problems, solve=False):\n",
        "\n",
        "    if (len(problems) > 5):\n",
        "      return \"Error: Too many problems.\"\n",
        "    first=\"\"\n",
        "    second=\"\"\n",
        "    lines=\"\"\n",
        "    sumx=\"\"\n",
        "    arranged_problems=\"\"\n",
        "    for problem in problems:\n",
        "      if (re.search(\"[^\\0-9.+-]\", problem)):\n",
        "        if (re.search(\"[/]\", problem) or re.search(\"[*]\", problem)):\n",
        "          return \"Error: Operator must be '+' or '-'.\"\n",
        "          return \"Error: Numbers must only contain digits.\"\n",
        "\n",
        "        first_number = problem.split(\" \")[0]\n",
        "        operator = problem.split(\" \")[1]\n",
        "        second_number = problem.split(\" \")[2]\n",
        "\n",
        "        if (len(first_number) >= 5 or len(second_number) >=5):\n",
        "          return \"Error: Numbers cannot be more than four digits.\"\n",
        "\n",
        "\n",
        "        sum = \"\"\n",
        "        if (operator == \"+\"):\n",
        "          sum = str(int(first_number) + int(second_number))\n",
        "        elif(operator == \"-\"):\n",
        "          sum = str(int(first_number) - int(second_number))\n",
        "\n",
        "        length = max(len(first_number), len(second_number)) + 2\n",
        "        top = str(first_number).rjust(length)\n",
        "        bottom = operator + str(second_number).rjust(length - 1)\n",
        "        line = str(\"\")\n",
        "        res = str(sum).rjust(length)\n",
        "\n",
        "        for s in range(length):\n",
        "          line += \"-\"\n",
        "\n",
        "        if problem != problems[-1]:\n",
        "          first += top + ' '\n",
        "          second += bottom + ' '\n",
        "          lines += line + ' '\n",
        "          sumx += res + ' '\n",
        "\n",
        "        else:\n",
        "          first += top\n",
        "          second += bottom\n",
        "          lines += line\n",
        "          sumx += res\n",
        "\n",
        "    if solve:\n",
        "          arranged_problems = first + \"\\n\" + second + \"\\n\" + lines + \"\\n\" + sumx\n",
        "    else:\n",
        "          arranged_problems = first + \"\\n\" + second + \"\\n\" + lines\n",
        "\n",
        "    return arranged_problems\n",
        "\n",
        "\n",
        "\n",
        "\n",
        "\n",
        "\n",
        "\n",
        "\n",
        "\n"
      ],
      "metadata": {
        "id": "-1vweLVr3QYk",
        "outputId": "df47d824-ef20-4195-a2f6-f3bb74e4f794",
        "colab": {
          "base_uri": "https://localhost:8080/",
          "height": 141
        }
      },
      "execution_count": 2,
      "outputs": [
        {
          "output_type": "error",
          "ename": "SyntaxError",
          "evalue": "ignored",
          "traceback": [
            "\u001b[0;36m  File \u001b[0;32m\"<ipython-input-2-7e4e58cbfa80>\"\u001b[0;36m, line \u001b[0;32m13\u001b[0m\n\u001b[0;31m    if (re.search(\"[^\\0-9.+-], problem)):\u001b[0m\n\u001b[0m                  ^\u001b[0m\n\u001b[0;31mSyntaxError\u001b[0m\u001b[0;31m:\u001b[0m unterminated string literal (detected at line 13)\n"
          ]
        }
      ]
    },
    {
      "cell_type": "code",
      "source": [
        "import re\n",
        "\n",
        "def arithmetic_arranger(problems, solve=False):\n",
        "\n",
        "    if (len(problems) > 5):\n",
        "      return \"Error: Too many problems.\"\n",
        "    first=''\n",
        "    second=''\n",
        "    lines=''\n",
        "    sumx=''\n",
        "    arranged_problems=\"\"\n",
        "    for problem in problems:\n",
        "      if (re.search(\"[^\\s0-9.+-]\", problem)):\n",
        "        if (re.search(\"[/]\", problem) or re.search(\"[*]\", problem)):\n",
        "          return \"Error: Operator must be '+' or '-'.\"\n",
        "          return \"Error: Numbers must only contain digits.\"\n",
        "\n",
        "        first_number = problem.split(\" \")[0]\n",
        "        operator = problem.split(\" \")[1]\n",
        "        second_number = problem.split(\" \")[2]\n",
        "\n",
        "        if (len(first_number) >= 5 or len(second_number) >=5):\n",
        "          return \"Error: Numbers cannot be more than four digits.\"\n",
        "\n",
        "\n",
        "        sum = \"\"\n",
        "        if (operator == \"+\"):\n",
        "          sum = str(int(first_number) + int(second_number))\n",
        "        elif(operator == \"-\"):\n",
        "          sum = str(int(first_number) - int(second_number))\n",
        "\n",
        "        length = max(len(first_number), len(second_number)) + 2\n",
        "        top = str(first_number).rjust(length)\n",
        "        bottom = operator + str(second_number).rjust(length - 1)\n",
        "        line = str(\"\")\n",
        "        res = str(sum).rjust(length)\n",
        "\n",
        "        for s in range(length):\n",
        "          line += \"-\"\n",
        "\n",
        "        if problem != problems[-1]:\n",
        "          first += top + ' '\n",
        "          second += bottom + ' '\n",
        "          lines += line + ' '\n",
        "          sumx += res + ' '\n",
        "\n",
        "        else:\n",
        "          first += top\n",
        "          second += bottom\n",
        "          lines += line\n",
        "          sumx += res\n",
        "\n",
        "    if solve:\n",
        "          arranged_problems = first + \"\\n\" + second + \"\\n\" + lines + \"\\n\" + sumx\n",
        "    else:\n",
        "          arranged_problems = first + \"\\n\" + second + \"\\n\" + lines\n",
        "\n",
        "    return arranged_problems\n",
        "\n",
        "\n",
        "\n",
        "\n"
      ],
      "metadata": {
        "id": "J0QhGf2PY7km"
      },
      "execution_count": 1,
      "outputs": []
    }
  ]
}