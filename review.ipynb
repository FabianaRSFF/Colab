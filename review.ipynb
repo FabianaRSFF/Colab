{
  "nbformat": 4,
  "nbformat_minor": 0,
  "metadata": {
    "colab": {
      "name": "review.ipynb",
      "provenance": [],
      "authorship_tag": "ABX9TyO8ENqu0I3+pO+xiNxG1GTP",
      "include_colab_link": true
    },
    "kernelspec": {
      "name": "python3",
      "display_name": "Python 3"
    },
    "language_info": {
      "name": "python"
    }
  },
  "cells": [
    {
      "cell_type": "markdown",
      "metadata": {
        "id": "view-in-github",
        "colab_type": "text"
      },
      "source": [
        "<a href=\"https://colab.research.google.com/github/FabianaRSFF/Colab/blob/main/review.ipynb\" target=\"_parent\"><img src=\"https://colab.research.google.com/assets/colab-badge.svg\" alt=\"Open In Colab\"/></a>"
      ]
    },
    {
      "cell_type": "markdown",
      "source": [
        "Converting User Input (review):"
      ],
      "metadata": {
        "id": "J4iKyoN7nea1"
      }
    },
    {
      "cell_type": "code",
      "source": [
        "name = \"Luka\"\n",
        "type(name)"
      ],
      "metadata": {
        "colab": {
          "base_uri": "https://localhost:8080/"
        },
        "id": "j8M4mmrIrFe0",
        "outputId": "096bba99-c8e4-4897-fa39-0b109cf850fe"
      },
      "execution_count": 2,
      "outputs": [
        {
          "output_type": "execute_result",
          "data": {
            "text/plain": [
              "str"
            ]
          },
          "metadata": {},
          "execution_count": 2
        }
      ]
    },
    {
      "cell_type": "code",
      "source": [
        "x = 5\n",
        "if x < 10:\n",
        "  print(\"Smaller\")\n",
        "if x > 20:\n",
        "  print(\"Bigger\")\n",
        "print(\"Finis\")"
      ],
      "metadata": {
        "colab": {
          "base_uri": "https://localhost:8080/"
        },
        "id": "98P7ebv24qfs",
        "outputId": "adf38dc0-4329-415b-d72d-ea3b55f33c0e"
      },
      "execution_count": 3,
      "outputs": [
        {
          "output_type": "stream",
          "name": "stdout",
          "text": [
            "Smaller\n",
            "Finis\n"
          ]
        }
      ]
    },
    {
      "cell_type": "code",
      "source": [
        "x = 0\n",
        "y =10\n",
        "\n",
        "if x == 0:\n",
        " if y == 10:\n",
        "   print(\"yes\")"
      ],
      "metadata": {
        "colab": {
          "base_uri": "https://localhost:8080/"
        },
        "id": "0-efSd0n7JXY",
        "outputId": "817e4610-7520-4ba1-c27e-54749de3cdfc"
      },
      "execution_count": 12,
      "outputs": [
        {
          "output_type": "stream",
          "name": "stdout",
          "text": [
            "yes\n"
          ]
        }
      ]
    },
    {
      "cell_type": "code",
      "source": [
        "x = 4\n",
        "if x > 2:\n",
        "  print('Bigger')\n",
        "else:\n",
        "  print(\"Smaller\")\n",
        "\n",
        "print(\"All done.\")"
      ],
      "metadata": {
        "colab": {
          "base_uri": "https://localhost:8080/"
        },
        "id": "GH_Byiyj9-g6",
        "outputId": "5a3b3fd8-314b-4a0a-8e14-a80c35e17b9f"
      },
      "execution_count": 14,
      "outputs": [
        {
          "output_type": "stream",
          "name": "stdout",
          "text": [
            "Bigger\n",
            "All done.\n"
          ]
        }
      ]
    },
    {
      "cell_type": "code",
      "source": [
        "x = 8\n",
        "if x < 2:\n",
        "  print(\"small\")\n",
        "elif x < 10:\n",
        "  print(\"medium\")\n",
        "else:\n",
        "\n",
        "  print(\"large\")\n",
        "print(\"All done\")"
      ],
      "metadata": {
        "colab": {
          "base_uri": "https://localhost:8080/"
        },
        "id": "3bj0BCnp_RGC",
        "outputId": "29a4008a-a9c7-43ce-909c-2b13e3e2f0f0"
      },
      "execution_count": 18,
      "outputs": [
        {
          "output_type": "stream",
          "name": "stdout",
          "text": [
            "medium\n",
            "All done\n"
          ]
        }
      ]
    },
    {
      "cell_type": "code",
      "source": [
        "astr = \"Bob\"\n",
        "try:\n",
        "  print(\"Hello\")\n",
        "  istr = int(astr)\n",
        "  print(\"there\")\n",
        "except:\n",
        "  istr = -1\n",
        "print(\"All done.\", istr)"
      ],
      "metadata": {
        "colab": {
          "base_uri": "https://localhost:8080/"
        },
        "id": "slvq0WEODY4Z",
        "outputId": "c87e4add-b722-4af4-ada7-bf94538fc391"
      },
      "execution_count": 20,
      "outputs": [
        {
          "output_type": "stream",
          "name": "stdout",
          "text": [
            "Hello\n",
            "All done. -1\n"
          ]
        }
      ]
    },
    {
      "cell_type": "code",
      "source": [
        "rawstr =  input(\"Enter a number: \")\n",
        "try:\n",
        "  ival = int(rawstr)\n",
        "except:\n",
        "  ival = -1\n",
        "\n",
        "if ival > 0:\n",
        "  print(\"Nice work\")\n",
        "else:\n",
        "  print(\"Not a number.\")"
      ],
      "metadata": {
        "colab": {
          "base_uri": "https://localhost:8080/"
        },
        "id": "n1v6BFHvEite",
        "outputId": "39779cb5-35a9-4247-c5cd-c5ac9486fa7f"
      },
      "execution_count": 23,
      "outputs": [
        {
          "output_type": "stream",
          "name": "stdout",
          "text": [
            "Enter a number: 13\n",
            "Nice work\n"
          ]
        }
      ]
    },
    {
      "cell_type": "code",
      "source": [
        "temp = \"5 degrees\"\n",
        "cel = 0\n",
        "try:\n",
        "  fahr = float(temp)\n",
        "  cel = (fahr - 32.0) * 5.0 / 9.0\n",
        "  print(cel)\n",
        "except:\n",
        "  print(cel)"
      ],
      "metadata": {
        "colab": {
          "base_uri": "https://localhost:8080/"
        },
        "id": "_hiStNcbF57u",
        "outputId": "c3834e5c-1dce-4d27-c158-58fb0e7f82f3"
      },
      "execution_count": 32,
      "outputs": [
        {
          "output_type": "stream",
          "name": "stdout",
          "text": [
            "0\n"
          ]
        }
      ]
    },
    {
      "cell_type": "code",
      "source": [
        "def thing():\n",
        "  print(\"Hello\")\n",
        "  print(\"Bye\")\n",
        "\n",
        "thing()"
      ],
      "metadata": {
        "colab": {
          "base_uri": "https://localhost:8080/"
        },
        "id": "8ztVMx8-I1vk",
        "outputId": "b3e7acf3-e03a-41c3-b595-b627a79eb437"
      },
      "execution_count": 33,
      "outputs": [
        {
          "output_type": "stream",
          "name": "stdout",
          "text": [
            "Hello\n",
            "Bye\n"
          ]
        }
      ]
    },
    {
      "cell_type": "code",
      "source": [
        "big = max(\"Hello world\")\n",
        "print(big)\n",
        "tiny = min(\"Hello World\")\n",
        "print(tiny)"
      ],
      "metadata": {
        "colab": {
          "base_uri": "https://localhost:8080/"
        },
        "id": "pU33G_15J-Pi",
        "outputId": "06a54eb5-c177-4172-b5a5-947bd7b312d2"
      },
      "execution_count": 36,
      "outputs": [
        {
          "output_type": "stream",
          "name": "stdout",
          "text": [
            "w\n",
            " \n"
          ]
        }
      ]
    },
    {
      "cell_type": "markdown",
      "source": [
        "def greet(lang, name):\n",
        "    if lang == \"es\":\n",
        "        print(\"Hola\")\n",
        "    elif lang == \"fr\":\n",
        "        print(\"Bonjour\")\n",
        "    else:\n",
        "        print(\"Hello\")\n",
        "\n",
        "# I don't understand why it's not working here.\n",
        "\n",
        "\n",
        "\n",
        "# Here it's okay.\n",
        "greet(\"es\")\n",
        "greet(\"fr\")\n",
        "greet(\"en\")\n",
        "  \n",
        "\n"
      ],
      "metadata": {
        "id": "t68o98x8M5IM"
      }
    },
    {
      "cell_type": "code",
      "source": [
        "def greet(lang):\n",
        "  if lang == \"es\":\n",
        "    print('Hola')\n",
        "  elif lang == \"fr\":\n",
        "    print(\"Bonjour\")\n",
        "  else:\n",
        "    print(\"Hello\")\n",
        "\n",
        "greet(\"es\")\n",
        "print(greet(\"es\"), \"Fabiana\")"
      ],
      "metadata": {
        "colab": {
          "base_uri": "https://localhost:8080/"
        },
        "id": "QBCA_ZBc8j_b",
        "outputId": "70b14ae6-e758-490f-c7a6-8d7d2d1c8f08"
      },
      "execution_count": 10,
      "outputs": [
        {
          "output_type": "stream",
          "name": "stdout",
          "text": [
            "Hola\n",
            "Hola\n",
            "None Fabiana\n"
          ]
        }
      ]
    },
    {
      "cell_type": "code",
      "source": [
        "def greet(lang):\n",
        "  if lang == \"es\":\n",
        "    return 'Hola'\n",
        "  elif lang == \"fr\":\n",
        "    return \"Bonjour\"\n",
        "  else:\n",
        "    return \"Hello\"\n",
        "\n",
        "greet(\"es\")\n",
        "print(greet(\"es\"), \"Fabiana\")\n",
        "print(greet(\"fr\"), \"Adriana\")\n",
        "print(greet(\"en\"), \"Cristiana\")"
      ],
      "metadata": {
        "colab": {
          "base_uri": "https://localhost:8080/"
        },
        "id": "ZFP20HUb9p8C",
        "outputId": "c125dfcf-2953-4432-ef60-50527b35cd67"
      },
      "execution_count": 13,
      "outputs": [
        {
          "output_type": "stream",
          "name": "stdout",
          "text": [
            "Hola Fabiana\n",
            "Bonjour Adriana\n",
            "Hello Cristiana\n"
          ]
        }
      ]
    },
    {
      "cell_type": "code",
      "source": [
        "def greet():\n",
        "  return \"Hello\"\n",
        "\n",
        "print(greet(), \"Glenn\")\n",
        "print(greet(), \"Sally\")"
      ],
      "metadata": {
        "colab": {
          "base_uri": "https://localhost:8080/"
        },
        "id": "n2ynbfi3OXip",
        "outputId": "e7f2c5a2-6d5d-4b05-9724-15f31bb084a8"
      },
      "execution_count": 42,
      "outputs": [
        {
          "output_type": "stream",
          "name": "stdout",
          "text": [
            "Hello Glenn\n",
            "Hello Sally\n"
          ]
        }
      ]
    },
    {
      "cell_type": "code",
      "source": [
        "inp = input(\"Europe floor?\")\n",
        "usf = int(inp) + 1\n",
        "print('US floor', usf)"
      ],
      "metadata": {
        "colab": {
          "base_uri": "https://localhost:8080/"
        },
        "id": "WXZZE6J7nfr3",
        "outputId": "337fe8b9-cc45-49d0-831d-d343bfc1e746"
      },
      "execution_count": 1,
      "outputs": [
        {
          "output_type": "stream",
          "name": "stdout",
          "text": [
            "Europe floor?2\n",
            "US floor 3\n"
          ]
        }
      ]
    }
  ]
}