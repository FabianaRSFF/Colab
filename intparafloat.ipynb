{
  "nbformat": 4,
  "nbformat_minor": 0,
  "metadata": {
    "colab": {
      "name": "intparafloat.ipynb",
      "provenance": [],
      "authorship_tag": "ABX9TyM96EsUH4ntdETslQPeNnwN",
      "include_colab_link": true
    },
    "kernelspec": {
      "name": "python3",
      "display_name": "Python 3"
    },
    "language_info": {
      "name": "python"
    }
  },
  "cells": [
    {
      "cell_type": "markdown",
      "metadata": {
        "id": "view-in-github",
        "colab_type": "text"
      },
      "source": [
        "<a href=\"https://colab.research.google.com/github/FabianaRSFF/Colab/blob/main/intparafloat.ipynb\" target=\"_parent\"><img src=\"https://colab.research.google.com/assets/colab-badge.svg\" alt=\"Open In Colab\"/></a>"
      ]
    },
    {
      "cell_type": "markdown",
      "source": [
        "Convertendo números inteiros em decimais:"
      ],
      "metadata": {
        "id": "HFbDbvp6StCe"
      }
    },
    {
      "cell_type": "code",
      "source": [
        "num1 = input('Digite um número: ')\n",
        "num2 = input('Digite outro número: ')\n"
      ],
      "metadata": {
        "colab": {
          "base_uri": "https://localhost:8080/"
        },
        "id": "ub0laCd_S17V",
        "outputId": "11a724dc-de46-4ec2-867d-c175fbb08c00"
      },
      "execution_count": 1,
      "outputs": [
        {
          "name": "stdout",
          "output_type": "stream",
          "text": [
            "Digite um número: 2\n",
            "Digite outro número: 44\n"
          ]
        }
      ]
    },
    {
      "cell_type": "code",
      "source": [
        "if num1.isdecimal() and num2.isdecimal():\n",
        "    num1 = float(num1)\n",
        "    num2 = float(num2)\n",
        "\n",
        "    print(num2 + num1)\n",
        "else:\n",
        "    print('Conversão impossível, favor criar método.')"
      ],
      "metadata": {
        "colab": {
          "base_uri": "https://localhost:8080/"
        },
        "id": "71SFTO0MTEAz",
        "outputId": "09cb8818-cb4c-4c8f-8214-4d031ec111db"
      },
      "execution_count": 2,
      "outputs": [
        {
          "output_type": "stream",
          "name": "stdout",
          "text": [
            "46.0\n"
          ]
        }
      ]
    },
    {
      "cell_type": "markdown",
      "source": [
        "Não funciona com negativos!\n"
      ],
      "metadata": {
        "id": "iz0rC2hrUyO5"
      }
    }
  ]
}