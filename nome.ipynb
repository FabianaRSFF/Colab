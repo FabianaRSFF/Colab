{
  "nbformat": 4,
  "nbformat_minor": 0,
  "metadata": {
    "colab": {
      "name": "nome.ipynb",
      "provenance": [],
      "authorship_tag": "ABX9TyOx7gsFCoK8cjLYJnUTxSIj",
      "include_colab_link": true
    },
    "kernelspec": {
      "name": "python3",
      "display_name": "Python 3"
    },
    "language_info": {
      "name": "python"
    }
  },
  "cells": [
    {
      "cell_type": "markdown",
      "metadata": {
        "id": "view-in-github",
        "colab_type": "text"
      },
      "source": [
        "<a href=\"https://colab.research.google.com/github/FabianaRSFF/Colab/blob/main/nome.ipynb\" target=\"_parent\"><img src=\"https://colab.research.google.com/assets/colab-badge.svg\" alt=\"Open In Colab\"/></a>"
      ]
    },
    {
      "cell_type": "code",
      "execution_count": 1,
      "metadata": {
        "colab": {
          "base_uri": "https://localhost:8080/"
        },
        "id": "kx83YBYWxBnQ",
        "outputId": "17bb95ae-af77-42a4-afc4-c32973c3654c"
      },
      "outputs": [
        {
          "output_type": "stream",
          "name": "stdout",
          "text": [
            "Por favor, escreva um nome: Joaquim\n",
            "Este nome é longo.\n"
          ]
        }
      ],
      "source": [
        "nome = input('Por favor, escreva um nome: ')\n",
        "caracteres = len(nome)\n",
        "\n",
        "if caracteres <= 4:\n",
        "  print('Este nome é curto.')\n",
        "elif caracteres > 4 and caracteres <= 6:\n",
        "  print('Este nome é normal.')\n",
        "elif caracteres > 6:\n",
        "  print('Este nome é longo.')"
      ]
    }
  ]
}